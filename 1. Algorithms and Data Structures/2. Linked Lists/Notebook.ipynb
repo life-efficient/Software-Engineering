{
 "cells": [
  {
   "cell_type": "markdown",
   "source": [
    "# Linked Lists\n",
    "\n",
    "Linked lists are very similar to regular lists. They are an ordered collection of objects; the difference lies in the way they store their items:\n",
    "\n",
    "- Each item in a List is a reference to their data\n",
    "- Each item in a Linked Lists is a reference to their data AND to another item\n",
    "\n",
    "To understand this concept, we need to see what is a Node\n"
   ],
   "metadata": {}
  },
  {
   "cell_type": "markdown",
   "source": [
    "## Nodes\r\n",
    "\r\n",
    "A node is the atomic component of a linked list. It has two different fields:\r\n",
    "\r\n",
    "- Data: Contains the value\r\n",
    "- Next: Contains the reference to another item. In this case, this 'another item' is another node\r\n",
    "\r\n",
    "![](images/linked_list.png)\r\n",
    "\r\n",
    "The first node is called Head, and each node points to the next one, except for the last one, which points to the None\r\n"
   ],
   "metadata": {}
  },
  {
   "cell_type": "markdown",
   "source": [
    "### Difference in Performance\n",
    "\n",
    "By now, you know that `.append(), insert(), .remove()`, and `.pop()` insert or remove elements in a regular list in Python. If we insert or remove something at the end of the list, the operation virtually does not require time. However, if we want to insert or remove items that are NOT at the end, the operation is more complex and therefore it takes more time.\n",
    "\n",
    "In essence, if you add something that is not at the end, you have to shift each element to the right, so if you add something at the beginning of the list, you have to shift all elements one position to the right.\n",
    "\n",
    "![](images/LinkedList_2.gif)"
   ],
   "metadata": {}
  },
  {
   "cell_type": "markdown",
   "source": [
    "For linked lists, on the other hand, you don't have to move any element, you can simply change the pointers \n",
    "\n",
    "![](images/LinkedList_3.gif)"
   ],
   "metadata": {}
  },
  {
   "cell_type": "code",
   "execution_count": 80,
   "source": [
    "my_list = [1, 2, 3, 4]\r\n",
    "my_list[2]"
   ],
   "outputs": [
    {
     "output_type": "execute_result",
     "data": {
      "text/plain": [
       "3"
      ]
     },
     "metadata": {},
     "execution_count": 80
    }
   ],
   "metadata": {}
  },
  {
   "cell_type": "markdown",
   "source": [
    "Can you figure out what happens what you delete an element in both List and Linked List?\n",
    "\n",
    "This feature will make it the perfect choice when we need to implement Stack and Queus algorithms (which we will see in the next lesson)."
   ],
   "metadata": {}
  },
  {
   "cell_type": "markdown",
   "source": [
    "### The Main Drawback\n",
    "\n",
    "The main problem of Linked Lists is that they are not indexed, so you cannot access directly to a random element. It takes us O(n) to visit an element by index."
   ],
   "metadata": {}
  },
  {
   "cell_type": "markdown",
   "source": [
    "## More Type of Linked Lists"
   ],
   "metadata": {}
  },
  {
   "cell_type": "markdown",
   "source": [
    "So far, we have seen Singly Linked List, this is, linked lists with just one pointer and a linear structure. However, thanks to its properties, you can create complex structures, such as Circular Linked List and Double Ended Queues"
   ],
   "metadata": {}
  },
  {
   "cell_type": "markdown",
   "source": [
    "## Circular Linked List\n",
    "\n",
    "In a circular linked list, the elements point each other in a circular way, forming a loop. \n",
    "\n",
    "![](images/linked_list_circular.webp)\n",
    "\n",
    "In Challenge 2, we will see how to implement it"
   ],
   "metadata": {}
  },
  {
   "cell_type": "markdown",
   "source": [
    "## Double Ended Queue\n",
    "\n",
    "Double ended queues, or dequeus (pronounced 'decks') are a generalized form of queue (which in turn is a special form of linked list) \n",
    "\n",
    "![](images/deque.jpg)"
   ],
   "metadata": {}
  },
  {
   "cell_type": "markdown",
   "source": [
    "To add a Double Ended Queue, we can use the Collection library, and inside the library, the deque module:\n",
    "\n",
    "When initializing a deque object, you can pass any iterable as an input, such as a string (also an iterable) or a list of objects."
   ],
   "metadata": {}
  },
  {
   "cell_type": "code",
   "execution_count": 81,
   "source": [
    "from collections import deque\r\n",
    "deque(['a','b','c'])"
   ],
   "outputs": [
    {
     "output_type": "execute_result",
     "data": {
      "text/plain": [
       "deque(['a', 'b', 'c'])"
      ]
     },
     "metadata": {},
     "execution_count": 81
    }
   ],
   "metadata": {}
  },
  {
   "cell_type": "markdown",
   "source": [
    "Same as in a list, you can add and remove elements "
   ],
   "metadata": {}
  },
  {
   "cell_type": "code",
   "execution_count": 82,
   "source": [
    "linked_list = deque(['abc', 'def', 'ghi', 'jkl'])\r\n",
    "print(linked_list)\r\n",
    "linked_list.append('mno')\r\n",
    "print(linked_list)\r\n",
    "linked_list.appendleft('xyz')\r\n",
    "print(linked_list)"
   ],
   "outputs": [
    {
     "output_type": "stream",
     "name": "stdout",
     "text": [
      "deque(['abc', 'def', 'ghi', 'jkl'])\n",
      "deque(['abc', 'def', 'ghi', 'jkl', 'mno'])\n",
      "deque(['xyz', 'abc', 'def', 'ghi', 'jkl', 'mno'])\n"
     ]
    }
   ],
   "metadata": {}
  },
  {
   "cell_type": "markdown",
   "source": [
    "You can see that this is very similar to a regular list, but in this case, we have the added values of lower time complexities"
   ],
   "metadata": {}
  },
  {
   "cell_type": "markdown",
   "source": [
    "## Exercise. Implement a LinkedList class"
   ],
   "metadata": {}
  },
  {
   "cell_type": "markdown",
   "source": [
    "One of the most common question in interviews is: How would you implement a linked list class from scratch? Let's take a look at the pseudocode.\n",
    "\n",
    "1. Create a Linked List class. When instantiate a new Linked List, this will consist only on the Head of the list."
   ],
   "metadata": {}
  },
  {
   "cell_type": "code",
   "execution_count": 14,
   "source": [
    "class LinkedList:\r\n",
    "    def __init__(self):\r\n",
    "        self.head = None"
   ],
   "outputs": [],
   "metadata": {}
  },
  {
   "cell_type": "markdown",
   "source": [
    "2. You will also need a Node class, which will be the object of each element in the Link Listed"
   ],
   "metadata": {}
  },
  {
   "cell_type": "code",
   "execution_count": 15,
   "source": [
    "class Node:\r\n",
    "    def __init__(self, x):\r\n",
    "        self.val = x\r\n",
    "        self.next = None"
   ],
   "outputs": [],
   "metadata": {}
  },
  {
   "cell_type": "markdown",
   "source": [
    "3. Let's combine them, and add a magic method to make them look nice upon calling, so in this case we implement the _ _ repr _ _ method."
   ],
   "metadata": {}
  },
  {
   "cell_type": "code",
   "execution_count": 16,
   "source": [
    "class Node:\r\n",
    "    def __init__(self, data):\r\n",
    "        self.data = data\r\n",
    "        self.next = None\r\n",
    "\r\n",
    "    def __repr__(self):\r\n",
    "        return self.data\r\n",
    "\r\n",
    "class LinkedList:\r\n",
    "    def __init__(self):\r\n",
    "        self.head = None\r\n",
    "\r\n",
    "    def __repr__(self):\r\n",
    "        node = self.head\r\n",
    "        nodes = []\r\n",
    "        while node is not None:\r\n",
    "            nodes.append(node.data)\r\n",
    "            node = node.next\r\n",
    "        nodes.append(\"None\")\r\n",
    "        return \" -> \".join(nodes)"
   ],
   "outputs": [],
   "metadata": {}
  },
  {
   "cell_type": "markdown",
   "source": [
    "Let's see what we have so far:"
   ],
   "metadata": {}
  },
  {
   "cell_type": "code",
   "execution_count": 17,
   "source": [
    "first_node = Node('a')\r\n",
    "print(first_node.next)"
   ],
   "outputs": [
    {
     "output_type": "stream",
     "name": "stdout",
     "text": [
      "None\n"
     ]
    }
   ],
   "metadata": {}
  },
  {
   "cell_type": "code",
   "execution_count": 19,
   "source": [
    "llist = LinkedList() # Right now, linked list is empty.\r\n",
    "\r\n",
    "first_node = Node('a') # Now, 'a' is the first node in our linked list.\r\n",
    "llist.head = first_node\r\n",
    "print(llist)"
   ],
   "outputs": [
    {
     "output_type": "stream",
     "name": "stdout",
     "text": [
      "a -> None\n"
     ]
    }
   ],
   "metadata": {}
  },
  {
   "cell_type": "code",
   "execution_count": 20,
   "source": [
    "# Let's add 'b' and 'c' to our linked list.\r\n",
    "\r\n",
    "second_node = Node('b') # 'b' is the second node in our linked list.\r\n",
    "third_node = Node('c') # 'c' is the third node in our linked list.\r\n",
    "first_node.next = second_node  # 'a' is linked to 'b'.\r\n",
    "second_node.next = third_node # 'b' is linked to 'c'.\r\n",
    "llist  # Our linked list looks like this: a -> b -> c, and c is pointed to None."
   ],
   "outputs": [
    {
     "output_type": "execute_result",
     "data": {
      "text/plain": [
       "a -> b -> c -> None"
      ]
     },
     "metadata": {},
     "execution_count": 20
    }
   ],
   "metadata": {}
  },
  {
   "cell_type": "markdown",
   "source": [
    "Let's change the _ _ init _ _ method to quickly create a linked list with some initial values."
   ],
   "metadata": {}
  },
  {
   "cell_type": "code",
   "execution_count": 26,
   "source": [
    "class LinkedList:\r\n",
    "\r\n",
    "    def __init__(self, nodes=None):\r\n",
    "        self.head = None # the first node\r\n",
    "        if nodes is not None: # nodes is a list of nodes\r\n",
    "            node = Node(data=nodes.pop(0)) # we take the first node and make it the head\r\n",
    "            self.head = node\r\n",
    "            for elem in nodes: # we take the rest of the nodes and make new nodes\r\n",
    "                node.next = Node(data=elem) # remember that Node accepts a value using the keyword argument \"data\"\r\n",
    "                node = node.next # Now we can link this node to the next node.\r\n",
    "\r\n",
    "    def __repr__(self):\r\n",
    "        node = self.head\r\n",
    "        nodes = []\r\n",
    "        while node is not None:\r\n",
    "            nodes.append(node.data)\r\n",
    "            node = node.next\r\n",
    "        nodes.append(\"None\")\r\n",
    "        return \" -> \".join(nodes)"
   ],
   "outputs": [],
   "metadata": {}
  },
  {
   "cell_type": "code",
   "execution_count": 25,
   "source": [
    "linked_list = LinkedList(['a', 'b', 'c', 'd'])\r\n",
    "linked_list"
   ],
   "outputs": [
    {
     "output_type": "stream",
     "name": "stdout",
     "text": [
      "b\n",
      "c\n",
      "d\n"
     ]
    },
    {
     "output_type": "execute_result",
     "data": {
      "text/plain": [
       "a -> b -> c -> d -> None"
      ]
     },
     "metadata": {},
     "execution_count": 25
    }
   ],
   "metadata": {}
  },
  {
   "cell_type": "code",
   "execution_count": 12,
   "source": [
    "linked_list[2]"
   ],
   "outputs": [
    {
     "output_type": "error",
     "ename": "NameError",
     "evalue": "name 'linked_list' is not defined",
     "traceback": [
      "\u001b[1;31m---------------------------------------------------------------------------\u001b[0m",
      "\u001b[1;31mNameError\u001b[0m                                 Traceback (most recent call last)",
      "\u001b[1;32mC:\\Users\\BLAIR_~1\\AppData\\Local\\Temp/ipykernel_10312/2913656859.py\u001b[0m in \u001b[0;36m<module>\u001b[1;34m\u001b[0m\n\u001b[1;32m----> 1\u001b[1;33m \u001b[0mlinked_list\u001b[0m\u001b[1;33m[\u001b[0m\u001b[1;36m2\u001b[0m\u001b[1;33m]\u001b[0m\u001b[1;33m\u001b[0m\u001b[1;33m\u001b[0m\u001b[0m\n\u001b[0m",
      "\u001b[1;31mNameError\u001b[0m: name 'linked_list' is not defined"
     ]
    }
   ],
   "metadata": {}
  },
  {
   "cell_type": "markdown",
   "source": [
    "However, we can't still traverse the linked list. Thus, we need to make it iterable."
   ],
   "metadata": {}
  },
  {
   "cell_type": "code",
   "execution_count": 23,
   "source": [
    "for node in linked_list:\r\n",
    "    print(node)"
   ],
   "outputs": [
    {
     "output_type": "error",
     "ename": "TypeError",
     "evalue": "'LinkedList' object is not iterable",
     "traceback": [
      "\u001b[1;31m---------------------------------------------------------------------------\u001b[0m",
      "\u001b[1;31mTypeError\u001b[0m                                 Traceback (most recent call last)",
      "\u001b[1;32mC:\\Users\\BLAIR_~1\\AppData\\Local\\Temp/ipykernel_10312/3600692699.py\u001b[0m in \u001b[0;36m<module>\u001b[1;34m\u001b[0m\n\u001b[1;32m----> 1\u001b[1;33m \u001b[1;32mfor\u001b[0m \u001b[0mnode\u001b[0m \u001b[1;32min\u001b[0m \u001b[0mlinked_list\u001b[0m\u001b[1;33m:\u001b[0m\u001b[1;33m\u001b[0m\u001b[1;33m\u001b[0m\u001b[0m\n\u001b[0m\u001b[0;32m      2\u001b[0m     \u001b[0mprint\u001b[0m\u001b[1;33m(\u001b[0m\u001b[0mnode\u001b[0m\u001b[1;33m)\u001b[0m\u001b[1;33m\u001b[0m\u001b[1;33m\u001b[0m\u001b[0m\n",
      "\u001b[1;31mTypeError\u001b[0m: 'LinkedList' object is not iterable"
     ]
    }
   ],
   "metadata": {}
  },
  {
   "cell_type": "markdown",
   "source": [
    "4. To do so we need to add a magic method _ _ iter _ _. This method will go through every node "
   ],
   "metadata": {}
  },
  {
   "cell_type": "code",
   "execution_count": 28,
   "source": [
    "class LinkedList:\r\n",
    "\r\n",
    "    def __init__(self, nodes=None):\r\n",
    "        self.head = None\r\n",
    "        if nodes is not None:\r\n",
    "            node = Node(data=nodes.pop(0))\r\n",
    "            self.head = node\r\n",
    "            for elem in nodes:\r\n",
    "                node.next = Node(data=elem)\r\n",
    "                node = node.next\r\n",
    "\r\n",
    "    def __repr__(self):\r\n",
    "        node = self.head\r\n",
    "        nodes = []\r\n",
    "        while node is not None:\r\n",
    "            nodes.append(node.data)\r\n",
    "            node = node.next\r\n",
    "        nodes.append(\"None\")\r\n",
    "        return \" -> \".join(nodes)\r\n",
    "        \r\n",
    "\r\n",
    "    def __iter__(self):\r\n",
    "        node = self.head\r\n",
    "        while node is not None: # if node is None, that means that we have reached the end of the linked list\r\n",
    "            yield node\r\n",
    "            node = node.next\r\n",
    "     "
   ],
   "outputs": [],
   "metadata": {}
  },
  {
   "cell_type": "code",
   "execution_count": 30,
   "source": [
    "linked_list = LinkedList(['a', 'b', 'c', 'd'])\r\n",
    "linked_list"
   ],
   "outputs": [
    {
     "output_type": "execute_result",
     "data": {
      "text/plain": [
       "a -> b -> c -> d -> None"
      ]
     },
     "metadata": {},
     "execution_count": 30
    }
   ],
   "metadata": {}
  },
  {
   "cell_type": "code",
   "execution_count": 31,
   "source": [
    "for node in linked_list:\r\n",
    "    print(node)\r\n",
    "\r\n"
   ],
   "outputs": [
    {
     "output_type": "stream",
     "name": "stdout",
     "text": [
      "a\n",
      "a\n",
      "b\n",
      "c\n",
      "d\n"
     ]
    }
   ],
   "metadata": {}
  },
  {
   "cell_type": "markdown",
   "source": [
    "5. The next thing we want to do with the linked list is insert a new node at the beginning of the list. It is your turn now. Using the class above, write a function that takes a node and a value and inserts a new node with the given value at the beginning of the list."
   ],
   "metadata": {}
  },
  {
   "cell_type": "code",
   "execution_count": 76,
   "source": [
    "class LinkedList:\r\n",
    "\r\n",
    "    def __init__(self, nodes=None):\r\n",
    "        self.head = None\r\n",
    "        if nodes is not None:\r\n",
    "            node = Node(data=nodes.pop(0))\r\n",
    "            self.head = node\r\n",
    "            for elem in nodes:\r\n",
    "                node.next = Node(data=elem)\r\n",
    "                node = node.next\r\n",
    "    \r\n",
    "    def __repr__(self):\r\n",
    "        node = self.head\r\n",
    "        nodes = []\r\n",
    "        while node is not None:\r\n",
    "            nodes.append(node.data)\r\n",
    "            node = node.next\r\n",
    "        nodes.append(\"None\")\r\n",
    "        return \" -> \".join(nodes)\r\n",
    "        \r\n",
    "\r\n",
    "    def __iter__(self):\r\n",
    "        node = self.head\r\n",
    "        while node is not None:\r\n",
    "            yield node\r\n",
    "            node = node.next\r\n",
    "\r\n",
    "    def add_at_beginning(self, node: str):\r\n",
    "        prev_head = self.head\r\n",
    "        self.head = Node(data=node)\r\n",
    "        self.head.next = prev_head\r\n",
    "\r\n",
    "    def add_at_end(self, node: str):\r\n",
    "        if self.head is None:\r\n",
    "            self.head = Node(data=node)\r\n",
    "            return\r\n",
    "        for current_node in self:\r\n",
    "            pass\r\n",
    "\r\n",
    "        current_node.next = Node(data=node)\r\n",
    "\r\n",
    "    def add_after(self, node: str, new_node: str):\r\n",
    "        if self.head is None:\r\n",
    "            raise Exception(\"List is empty\")\r\n",
    "        \r\n",
    "        new_node = Node(data=new_node)\r\n",
    "        \r\n",
    "        for current_node in self:\r\n",
    "            if current_node.data == node:\r\n",
    "                new_node.next = current_node.next\r\n",
    "                current_node.next = new_node\r\n",
    "                return\r\n",
    "        raise Exception(\"Node not found\")\r\n",
    "    \r\n",
    "    def add_before(self, node: str, new_node: str):\r\n",
    "        if self.head is None:\r\n",
    "            raise Exception(\"List is empty\")\r\n",
    "\r\n",
    "        if self.head.data == node:\r\n",
    "            self.add_at_beginning(new_node)\r\n",
    "            return\r\n",
    "\r\n",
    "        new_node = Node(data=new_node)\r\n",
    "        prev_node = self.head\r\n",
    "        for current_node in self:\r\n",
    "            if current_node.data == node:\r\n",
    "                prev_node.next = new_node\r\n",
    "                new_node.next = current_node\r\n",
    "                return\r\n",
    "            prev_node = current_node\r\n",
    "\r\n",
    "        raise Exception(\"Node not found\")\r\n",
    "    \r\n",
    "    def remove_node(self, node: str):\r\n",
    "        if self.head is None:\r\n",
    "            raise Exception(\"List is empty\")\r\n",
    "\r\n",
    "        #remove if node easily if start of the list\r\n",
    "        if self.head.data == node:\r\n",
    "            self.head = self.head.next # remove head\r\n",
    "            return\r\n",
    "        \r\n",
    "        prev_node = self.head\r\n",
    "        for current_node in self:\r\n",
    "            if current_node.data == node:\r\n",
    "                prev_node.next = current_node.next\r\n",
    "                return\r\n",
    "            prev_node = current_node\r\n",
    "        \r\n",
    "        raise Exception(\"Node not found\")"
   ],
   "outputs": [],
   "metadata": {}
  },
  {
   "cell_type": "markdown",
   "source": [
    "Try it out, and then try to understand what you just saw."
   ],
   "metadata": {}
  },
  {
   "cell_type": "code",
   "execution_count": 77,
   "source": [
    "llist = LinkedList(['a', 'b', 'c'])\r\n",
    "llist.add_after('b', 'e')\r\n",
    "print(llist)"
   ],
   "outputs": [
    {
     "output_type": "stream",
     "name": "stdout",
     "text": [
      "a\n",
      "a\n",
      "a -> b -> e -> c -> None\n"
     ]
    }
   ],
   "metadata": {}
  },
  {
   "cell_type": "code",
   "execution_count": 78,
   "source": [
    "llist = LinkedList(['a', 'b', 'c'])\r\n",
    "llist.remove_node('c')\r\n",
    "llist.add_at_end('f')\r\n",
    "print(llist)"
   ],
   "outputs": [
    {
     "output_type": "stream",
     "name": "stdout",
     "text": [
      "a\n",
      "a\n",
      "a\n",
      "b\n",
      "c\n",
      "a -> b -> f -> None\n"
     ]
    }
   ],
   "metadata": {}
  },
  {
   "cell_type": "code",
   "execution_count": 43,
   "source": [
    "print(llist)"
   ],
   "outputs": [
    {
     "output_type": "stream",
     "name": "stdout",
     "text": [
      "e -> a -> b -> None\n"
     ]
    }
   ],
   "metadata": {}
  },
  {
   "cell_type": "markdown",
   "source": [
    "## Lesson Challenge\n",
    "\n",
    "Add the following methods to the Linked List class:\n",
    "\n",
    "1. .add_at_end(node: 'str')\n",
    "2. .add_after(target_node: 'str', new_node: 'str')\n",
    "3. .add_before(target_node: 'str', new_node: 'str')\n",
    "4. .remove_node(target_node: 'str')"
   ],
   "metadata": {}
  },
  {
   "cell_type": "markdown",
   "source": [
    "# Challenges (Linked Lists)"
   ],
   "metadata": {}
  },
  {
   "cell_type": "markdown",
   "source": [
    "## 1. Intersection of two Linked Lists"
   ],
   "metadata": {}
  },
  {
   "cell_type": "markdown",
   "source": [
    "Given the heads of two singly linked-lists headA and headB, return the node at which the two lists intersect. If the two linked lists have no intersection at all, return null."
   ],
   "metadata": {}
  },
  {
   "cell_type": "markdown",
   "source": [
    "## 2. Implement a Circular Linked List\n",
    "\n",
    "Create a class that uses the Node class to represent a circular linked list."
   ],
   "metadata": {}
  },
  {
   "cell_type": "markdown",
   "source": [
    "# Assessment"
   ],
   "metadata": {}
  },
  {
   "cell_type": "markdown",
   "source": [
    "1. Look information about Doubly Linked List. What is the difference betwwen Doubly Linked List and Dequeus?\n",
    "2. Implement a Doubly Linked List class\n",
    "3. Look for Fibonacci Heap. How is it related to Linked Lists?"
   ],
   "metadata": {}
  },
  {
   "cell_type": "markdown",
   "source": [],
   "metadata": {}
  }
 ],
 "metadata": {
  "interpreter": {
   "hash": "14fed20d815d8426698b9e4db4c2894958f6485d6746a1ea976e58ce3ec76c9f"
  },
  "kernelspec": {
   "name": "python3",
   "display_name": "Python 3.9.6 64-bit ('AiCoreTeach': conda)"
  },
  "language_info": {
   "name": "python",
   "version": "3.9.6",
   "mimetype": "text/x-python",
   "codemirror_mode": {
    "name": "ipython",
    "version": 3
   },
   "pygments_lexer": "ipython3",
   "nbconvert_exporter": "python",
   "file_extension": ".py"
  },
  "orig_nbformat": 4
 },
 "nbformat": 4,
 "nbformat_minor": 2
}