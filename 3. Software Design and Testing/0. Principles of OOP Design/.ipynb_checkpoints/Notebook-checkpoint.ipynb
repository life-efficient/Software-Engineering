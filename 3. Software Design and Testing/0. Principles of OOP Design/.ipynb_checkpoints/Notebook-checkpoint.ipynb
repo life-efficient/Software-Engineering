{
 "cells": [
  {
   "cell_type": "markdown",
   "metadata": {},
   "source": [
    "# 1. Principles of OOP Design"
   ]
  },
  {
   "cell_type": "markdown",
   "metadata": {},
   "source": [
    "The basis for effective software design is in its name: __Intentional Design__. While designing your code, you will find that you need to reuse the same algorithms over and over again, so it is important to organize your code to:\n",
    "\n",
    "1. Save time for you and your teammates when you have to revisit the code\n",
    "2. Reuse the same algorithm but with different parameters\n",
    "3. Avoid common pitfalls caused by extensive code\n",
    "4. Increase the flexibility of your code by keeping placeholders for your functions or methods"
   ]
  },
  {
   "cell_type": "markdown",
   "metadata": {},
   "source": [
    "In this notebook you will learn the hierarchical structure of a project, which is the foundation of clean code. We will see how to use Python's features for organizing our code, and what level of granularity we should consider when separating it.\n",
    "\n",
    "_What we are going to see is what we saw during the essentials, but a professional level. So brace yourselves!_\n",
    "\n",
    "# Concerns, Scope, and Namespaces\n",
    "\n",
    "Before we start talking about classes, we need to define three concepts:\n",
    "\n",
    "__1. Concerns__\n",
    "\n",
    "__2. Scope__\n",
    "\n",
    "__3. Namespace__"
   ]
  },
  {
   "cell_type": "markdown",
   "metadata": {},
   "source": [
    "> ## Concerns\n",
    ">\n",
    "> #### In programming, a __concern__ is a distinct behaviour presented by your code. \n",
    "> <br />\n",
    "\n",
    "For example, if you are extracting cat images from a website, a concern can be connecting to the webpage, or it can be downloading the image, or even checking whether the used URL is legit."
   ]
  },
  {
   "cell_type": "markdown",
   "metadata": {},
   "source": [
    "> ## Scope\n",
    ">\n",
    "> ### The scope of an object defines the area of a program in which you can unambiguously access that name\n",
    "> <br>"
   ]
  },
  {
   "cell_type": "markdown",
   "metadata": {},
   "source": [
    "You might be already be familiar with this concept, as well as two general scopes, global and local:\n",
    "\n",
    "1. Global Scope: The names are available in all your __code__, even inside functions\n",
    "2. Local Scope: The names are only available within this scope. For example, variables within a function are not accesible out of the function"
   ]
  },
  {
   "cell_type": "code",
   "execution_count": 1,
   "metadata": {},
   "outputs": [
    {
     "name": "stdout",
     "output_type": "stream",
     "text": [
      "The outside variable says: I am global!\n"
     ]
    },
    {
     "ename": "NameError",
     "evalue": "name 'awesomeness' is not defined",
     "output_type": "error",
     "traceback": [
      "\u001b[0;31m---------------------------------------------------------------------------\u001b[0m",
      "\u001b[0;31mNameError\u001b[0m                                 Traceback (most recent call last)",
      "\u001b[0;32m<ipython-input-1-aea7e52face4>\u001b[0m in \u001b[0;36m<module>\u001b[0;34m\u001b[0m\n\u001b[1;32m     10\u001b[0m \u001b[0mawesome_function\u001b[0m\u001b[0;34m(\u001b[0m\u001b[0;34m)\u001b[0m\u001b[0;34m\u001b[0m\u001b[0;34m\u001b[0m\u001b[0m\n\u001b[1;32m     11\u001b[0m \u001b[0;34m\u001b[0m\u001b[0m\n\u001b[0;32m---> 12\u001b[0;31m \u001b[0mprint\u001b[0m\u001b[0;34m(\u001b[0m\u001b[0mawesomeness\u001b[0m\u001b[0;34m)\u001b[0m\u001b[0;34m\u001b[0m\u001b[0;34m\u001b[0m\u001b[0m\n\u001b[0m",
      "\u001b[0;31mNameError\u001b[0m: name 'awesomeness' is not defined"
     ]
    }
   ],
   "source": [
    "outside_variable = 'I am global!'\n",
    "\n",
    "def awesome_function():\n",
    "    print('The outside variable says: ' + outside_variable)\n",
    "    awesomeness = 9001\n",
    "\n",
    "# When running the function, it will run everything inside\n",
    "# Notice that awesome_function doesn't return anything (Void function)\n",
    "# so it will only print out anything if there is a print statement INSIDE the function\n",
    "awesome_function()\n",
    "\n",
    "print(awesomeness)"
   ]
  },
  {
   "cell_type": "markdown",
   "metadata": {},
   "source": [
    "However one concept for scopes in Software Engineering is LEGB (Local, Enclosing, Global, and Built-in) scopes:\n",
    "\n",
    "- Local scope: This Python scope contains the names that you define inside the function\n",
    "- Enclosing scope: This Python scope only exists for nested functions. If the local scope is an inner or nested function, then the enclosing scope is the scope of the outer or enclosing function\n",
    "- Global scope: This Python scope contains all of the names that you define at the top level of a program or a module\n",
    "- Built-in Scope: This Python scope is created whenever you run a script or open an interactive session. \n",
    "\n",
    "The LEGB rule determines the order in which Python looks for variables. \n"
   ]
  },
  {
   "cell_type": "code",
   "execution_count": 1,
   "metadata": {},
   "outputs": [
    {
     "name": "stdout",
     "output_type": "stream",
     "text": [
      "I am in awesome function, the global variable says: I am global!\n",
      "I am in incredible function, the global variable says: I am global!\n",
      "I am in incredible function, the enclosed variable says: I am an enclosed variable!\n"
     ]
    },
    {
     "ename": "NameError",
     "evalue": "name 'local_variable' is not defined",
     "output_type": "error",
     "traceback": [
      "\u001b[0;31m---------------------------------------------------------------------------\u001b[0m",
      "\u001b[0;31mNameError\u001b[0m                                 Traceback (most recent call last)",
      "\u001b[0;32m<ipython-input-1-d8b7b3f11afb>\u001b[0m in \u001b[0;36m<module>\u001b[0;34m\u001b[0m\n\u001b[1;32m     12\u001b[0m     \u001b[0mprint\u001b[0m\u001b[0;34m(\u001b[0m\u001b[0;34m'I am in awesome function, the global variable says: '\u001b[0m \u001b[0;34m+\u001b[0m \u001b[0mlocal_variable\u001b[0m\u001b[0;34m)\u001b[0m\u001b[0;34m\u001b[0m\u001b[0;34m\u001b[0m\u001b[0m\n\u001b[1;32m     13\u001b[0m \u001b[0;34m\u001b[0m\u001b[0m\n\u001b[0;32m---> 14\u001b[0;31m \u001b[0mawesome_function\u001b[0m\u001b[0;34m(\u001b[0m\u001b[0;34m)\u001b[0m\u001b[0;34m\u001b[0m\u001b[0;34m\u001b[0m\u001b[0m\n\u001b[0m",
      "\u001b[0;32m<ipython-input-1-d8b7b3f11afb>\u001b[0m in \u001b[0;36mawesome_function\u001b[0;34m()\u001b[0m\n\u001b[1;32m     10\u001b[0m         \u001b[0;32mreturn\u001b[0m \u001b[0mlocal_variable\u001b[0m\u001b[0;34m\u001b[0m\u001b[0;34m\u001b[0m\u001b[0m\n\u001b[1;32m     11\u001b[0m     \u001b[0mincredible_function\u001b[0m\u001b[0;34m(\u001b[0m\u001b[0;34m)\u001b[0m\u001b[0;34m\u001b[0m\u001b[0;34m\u001b[0m\u001b[0m\n\u001b[0;32m---> 12\u001b[0;31m     \u001b[0mprint\u001b[0m\u001b[0;34m(\u001b[0m\u001b[0;34m'I am in awesome function, the global variable says: '\u001b[0m \u001b[0;34m+\u001b[0m \u001b[0mlocal_variable\u001b[0m\u001b[0;34m)\u001b[0m\u001b[0;34m\u001b[0m\u001b[0;34m\u001b[0m\u001b[0m\n\u001b[0m\u001b[1;32m     13\u001b[0m \u001b[0;34m\u001b[0m\u001b[0m\n\u001b[1;32m     14\u001b[0m \u001b[0mawesome_function\u001b[0m\u001b[0;34m(\u001b[0m\u001b[0;34m)\u001b[0m\u001b[0;34m\u001b[0m\u001b[0;34m\u001b[0m\u001b[0m\n",
      "\u001b[0;31mNameError\u001b[0m: name 'local_variable' is not defined"
     ]
    }
   ],
   "source": [
    "outside_variable = 'I am global!'\n",
    "\n",
    "def awesome_function():\n",
    "    print('I am in awesome function, the global variable says: ' + outside_variable)\n",
    "    enclosing_variable = 'I am an enclosed variable!'\n",
    "    def incredible_function():\n",
    "        print('I am in incredible function, the global variable says: ' + outside_variable)\n",
    "        print('I am in incredible function, the enclosed variable says: ' + enclosing_variable)\n",
    "        local_variable = 'I am incredible, but since I am local I can\\'t be used outside here :('\n",
    "        return local_variable\n",
    "    incredible_function()\n",
    "    print('I am in awesome function, the global variable says: ' + local_variable)\n",
    "\n",
    "awesome_function()"
   ]
  },
  {
   "cell_type": "markdown",
   "metadata": {},
   "source": [
    "During these examples we have been using `print` in all scopes. That is because `print` is in the Built-in scope, so it can be accessed anywhere. "
   ]
  },
  {
   "cell_type": "markdown",
   "metadata": {},
   "source": [
    "> ## Namespace\n",
    ">\n",
    "> ### A namespace is a collection of currently defined symbolic names along with information about the object that each name references\n",
    "> <br />\n",
    "\n",
    "In other words, namespaces are sets of names contained in the scope. They are a honking great idea! (look for [The Zen of Python](https://www.python.org/dev/peps/pep-0020/#id2))\n",
    "\n",
    "The concepts of _Namespaces_ and _Scopes_ are similar, but they are not the same. Python scopes are implemented as dictionaries that map names to objects, and that dictionary is the namespace.\n",
    "\n",
    "Namespaces are useful for:\n",
    "\n",
    "1. Minimizing collisions between identical names in different scripts\n",
    "2. Making educated guesses about where code might live\n",
    "3. Making educated guesses about where new code should be introduced."
   ]
  },
  {
   "cell_type": "markdown",
   "metadata": {},
   "source": [
    "When you open a Python interpreter, the `built-in` scope is populated with the objects built in Python, for example `print()` or `__name__`. The `__name__` attrribute indicates the name of the file we are running, thus, when importing a module, the value `__name__` of that module will be its name. Let's import `foo.py` and see its `__name__`"
   ]
  },
  {
   "cell_type": "code",
   "execution_count": 15,
   "metadata": {},
   "outputs": [
    {
     "data": {
      "text/plain": [
       "{'__name__': 'bar',\n",
       " '__doc__': None,\n",
       " '__package__': '',\n",
       " '__loader__': <_frozen_importlib_external.SourceFileLoader at 0x7fc4e9e4d8e0>,\n",
       " '__spec__': ModuleSpec(name='bar', loader=<_frozen_importlib_external.SourceFileLoader object at 0x7fc4e9e4d8e0>, origin='/Users/ivanying/Desktop/AiCore_Teaching/Software-Engineering-Private/3. Software Design and Testing/1. Principles of OOP Design/bar.py'),\n",
       " '__file__': '/Users/ivanying/Desktop/AiCore_Teaching/Software-Engineering-Private/3. Software Design and Testing/1. Principles of OOP Design/bar.py',\n",
       " '__cached__': '/Users/ivanying/Desktop/AiCore_Teaching/Software-Engineering-Private/3. Software Design and Testing/1. Principles of OOP Design/__pycache__/bar.cpython-39.pyc',\n",
       " '__builtins__': {'__name__': 'builtins',\n",
       "  '__doc__': \"Built-in functions, exceptions, and other objects.\\n\\nNoteworthy: None is the `nil' object; Ellipsis represents `...' in slices.\",\n",
       "  '__package__': '',\n",
       "  '__loader__': _frozen_importlib.BuiltinImporter,\n",
       "  '__spec__': ModuleSpec(name='builtins', loader=<class '_frozen_importlib.BuiltinImporter'>, origin='built-in'),\n",
       "  '__build_class__': <function __build_class__>,\n",
       "  '__import__': <function __import__>,\n",
       "  'abs': <function abs(x, /)>,\n",
       "  'all': <function all(iterable, /)>,\n",
       "  'any': <function any(iterable, /)>,\n",
       "  'ascii': <function ascii(obj, /)>,\n",
       "  'bin': <function bin(number, /)>,\n",
       "  'breakpoint': <function breakpoint>,\n",
       "  'callable': <function callable(obj, /)>,\n",
       "  'chr': <function chr(i, /)>,\n",
       "  'compile': <function compile(source, filename, mode, flags=0, dont_inherit=False, optimize=-1, *, _feature_version=-1)>,\n",
       "  'delattr': <function delattr(obj, name, /)>,\n",
       "  'dir': <function dir>,\n",
       "  'divmod': <function divmod(x, y, /)>,\n",
       "  'eval': <function eval(source, globals=None, locals=None, /)>,\n",
       "  'exec': <function exec(source, globals=None, locals=None, /)>,\n",
       "  'format': <function format(value, format_spec='', /)>,\n",
       "  'getattr': <function getattr>,\n",
       "  'globals': <function globals()>,\n",
       "  'hasattr': <function hasattr(obj, name, /)>,\n",
       "  'hash': <function hash(obj, /)>,\n",
       "  'hex': <function hex(number, /)>,\n",
       "  'id': <function id(obj, /)>,\n",
       "  'input': <bound method Kernel.raw_input of <ipykernel.ipkernel.IPythonKernel object at 0x7fc4e9ac7730>>,\n",
       "  'isinstance': <function isinstance(obj, class_or_tuple, /)>,\n",
       "  'issubclass': <function issubclass(cls, class_or_tuple, /)>,\n",
       "  'iter': <function iter>,\n",
       "  'len': <function len(obj, /)>,\n",
       "  'locals': <function locals()>,\n",
       "  'max': <function max>,\n",
       "  'min': <function min>,\n",
       "  'next': <function next>,\n",
       "  'oct': <function oct(number, /)>,\n",
       "  'ord': <function ord(c, /)>,\n",
       "  'pow': <function pow(base, exp, mod=None)>,\n",
       "  'print': <function print>,\n",
       "  'repr': <function repr(obj, /)>,\n",
       "  'round': <function round(number, ndigits=None)>,\n",
       "  'setattr': <function setattr(obj, name, value, /)>,\n",
       "  'sorted': <function sorted(iterable, /, *, key=None, reverse=False)>,\n",
       "  'sum': <function sum(iterable, /, start=0)>,\n",
       "  'vars': <function vars>,\n",
       "  'None': None,\n",
       "  'Ellipsis': Ellipsis,\n",
       "  'NotImplemented': NotImplemented,\n",
       "  'False': False,\n",
       "  'True': True,\n",
       "  'bool': bool,\n",
       "  'memoryview': memoryview,\n",
       "  'bytearray': bytearray,\n",
       "  'bytes': bytes,\n",
       "  'classmethod': classmethod,\n",
       "  'complex': complex,\n",
       "  'dict': dict,\n",
       "  'enumerate': enumerate,\n",
       "  'filter': filter,\n",
       "  'float': float,\n",
       "  'frozenset': frozenset,\n",
       "  'property': property,\n",
       "  'int': int,\n",
       "  'list': list,\n",
       "  'map': map,\n",
       "  'object': object,\n",
       "  'range': range,\n",
       "  'reversed': reversed,\n",
       "  'set': set,\n",
       "  'slice': slice,\n",
       "  'staticmethod': staticmethod,\n",
       "  'str': str,\n",
       "  'super': super,\n",
       "  'tuple': tuple,\n",
       "  'type': type,\n",
       "  'zip': zip,\n",
       "  '__debug__': True,\n",
       "  'BaseException': BaseException,\n",
       "  'Exception': Exception,\n",
       "  'TypeError': TypeError,\n",
       "  'StopAsyncIteration': StopAsyncIteration,\n",
       "  'StopIteration': StopIteration,\n",
       "  'GeneratorExit': GeneratorExit,\n",
       "  'SystemExit': SystemExit,\n",
       "  'KeyboardInterrupt': KeyboardInterrupt,\n",
       "  'ImportError': ImportError,\n",
       "  'ModuleNotFoundError': ModuleNotFoundError,\n",
       "  'OSError': OSError,\n",
       "  'EnvironmentError': OSError,\n",
       "  'IOError': OSError,\n",
       "  'EOFError': EOFError,\n",
       "  'RuntimeError': RuntimeError,\n",
       "  'RecursionError': RecursionError,\n",
       "  'NotImplementedError': NotImplementedError,\n",
       "  'NameError': NameError,\n",
       "  'UnboundLocalError': UnboundLocalError,\n",
       "  'AttributeError': AttributeError,\n",
       "  'SyntaxError': SyntaxError,\n",
       "  'IndentationError': IndentationError,\n",
       "  'TabError': TabError,\n",
       "  'LookupError': LookupError,\n",
       "  'IndexError': IndexError,\n",
       "  'KeyError': KeyError,\n",
       "  'ValueError': ValueError,\n",
       "  'UnicodeError': UnicodeError,\n",
       "  'UnicodeEncodeError': UnicodeEncodeError,\n",
       "  'UnicodeDecodeError': UnicodeDecodeError,\n",
       "  'UnicodeTranslateError': UnicodeTranslateError,\n",
       "  'AssertionError': AssertionError,\n",
       "  'ArithmeticError': ArithmeticError,\n",
       "  'FloatingPointError': FloatingPointError,\n",
       "  'OverflowError': OverflowError,\n",
       "  'ZeroDivisionError': ZeroDivisionError,\n",
       "  'SystemError': SystemError,\n",
       "  'ReferenceError': ReferenceError,\n",
       "  'MemoryError': MemoryError,\n",
       "  'BufferError': BufferError,\n",
       "  'Warning': Warning,\n",
       "  'UserWarning': UserWarning,\n",
       "  'DeprecationWarning': DeprecationWarning,\n",
       "  'PendingDeprecationWarning': PendingDeprecationWarning,\n",
       "  'SyntaxWarning': SyntaxWarning,\n",
       "  'RuntimeWarning': RuntimeWarning,\n",
       "  'FutureWarning': FutureWarning,\n",
       "  'ImportWarning': ImportWarning,\n",
       "  'UnicodeWarning': UnicodeWarning,\n",
       "  'BytesWarning': BytesWarning,\n",
       "  'ResourceWarning': ResourceWarning,\n",
       "  'ConnectionError': ConnectionError,\n",
       "  'BlockingIOError': BlockingIOError,\n",
       "  'BrokenPipeError': BrokenPipeError,\n",
       "  'ChildProcessError': ChildProcessError,\n",
       "  'ConnectionAbortedError': ConnectionAbortedError,\n",
       "  'ConnectionRefusedError': ConnectionRefusedError,\n",
       "  'ConnectionResetError': ConnectionResetError,\n",
       "  'FileExistsError': FileExistsError,\n",
       "  'FileNotFoundError': FileNotFoundError,\n",
       "  'IsADirectoryError': IsADirectoryError,\n",
       "  'NotADirectoryError': NotADirectoryError,\n",
       "  'InterruptedError': InterruptedError,\n",
       "  'PermissionError': PermissionError,\n",
       "  'ProcessLookupError': ProcessLookupError,\n",
       "  'TimeoutError': TimeoutError,\n",
       "  'open': <function io.open(file, mode='r', buffering=-1, encoding=None, errors=None, newline=None, closefd=True, opener=None)>,\n",
       "  'copyright': Copyright (c) 2001-2020 Python Software Foundation.\n",
       "  All Rights Reserved.\n",
       "  \n",
       "  Copyright (c) 2000 BeOpen.com.\n",
       "  All Rights Reserved.\n",
       "  \n",
       "  Copyright (c) 1995-2001 Corporation for National Research Initiatives.\n",
       "  All Rights Reserved.\n",
       "  \n",
       "  Copyright (c) 1991-1995 Stichting Mathematisch Centrum, Amsterdam.\n",
       "  All Rights Reserved.,\n",
       "  'credits':     Thanks to CWI, CNRI, BeOpen.com, Zope Corporation and a cast of thousands\n",
       "      for supporting Python development.  See www.python.org for more information.,\n",
       "  'license': Type license() to see the full license text,\n",
       "  'help': Type help() for interactive help, or help(object) for help about object.,\n",
       "  '__IPYTHON__': True,\n",
       "  'display': <function IPython.core.display.display(*objs, include=None, exclude=None, metadata=None, transient=None, display_id=None, **kwargs)>,\n",
       "  'get_ipython': <bound method InteractiveShell.get_ipython of <ipykernel.zmqshell.ZMQInteractiveShell object at 0x7fc4e9a5c910>>},\n",
       " 'x': 'bar',\n",
       " 'y': 'I am \"y\" in \"bar.py\"'}"
      ]
     },
     "execution_count": 15,
     "metadata": {},
     "output_type": "execute_result"
    }
   ],
   "source": [
    "import foo\n",
    "import bar\n",
    "bar.__dict__"
   ]
  },
  {
   "cell_type": "code",
   "execution_count": 3,
   "metadata": {},
   "outputs": [
    {
     "data": {
      "text/plain": [
       "'foo'"
      ]
     },
     "execution_count": 3,
     "metadata": {},
     "output_type": "execute_result"
    }
   ],
   "source": [
    "import foo\n",
    "foo.__name__"
   ]
  },
  {
   "cell_type": "markdown",
   "metadata": {},
   "source": [
    "Looks obvious right? However, what do you think the value of `__name__` will be in this notebook? `Principles of OOP`?"
   ]
  },
  {
   "cell_type": "code",
   "execution_count": 4,
   "metadata": {},
   "outputs": [
    {
     "name": "stdout",
     "output_type": "stream",
     "text": [
      "__main__\n"
     ]
    }
   ],
   "source": [
    "print(__name__)"
   ]
  },
  {
   "cell_type": "markdown",
   "metadata": {},
   "source": [
    "The name of the file that opened the interpreter will be `__main__` (Now, the `if __name__ == '__main__'` statement makes sense!)\n"
   ]
  },
  {
   "cell_type": "markdown",
   "metadata": {},
   "source": [
    "### Namespaces and imports"
   ]
  },
  {
   "cell_type": "markdown",
   "metadata": {},
   "source": [
    "\n",
    "When you import a module, Python creates an additional namespace for that module by creating a new dictionary. In this directory we have another module named `foo.py`, so when we import it into our main script, the variables in `foo.py` are present in the `__main__` script, but it will have a 'first name' corresponding to the name of the module"
   ]
  },
  {
   "cell_type": "code",
   "execution_count": 6,
   "metadata": {},
   "outputs": [
    {
     "name": "stdout",
     "output_type": "stream",
     "text": [
      "Printing x: I am \"x\" in this notebook\n",
      "Printing foo.x: I am \"x\" in \"foo.py\"\n"
     ]
    }
   ],
   "source": [
    "import foo\n",
    "x = 'I am \"x\" in this notebook'\n",
    "print('Printing x: ' + x)\n",
    "print('Printing foo.x: ' + foo.x)"
   ]
  },
  {
   "cell_type": "markdown",
   "metadata": {},
   "source": [
    "Observe that `foo` is in the global scope, we can call for it within a function:"
   ]
  },
  {
   "cell_type": "code",
   "execution_count": 7,
   "metadata": {},
   "outputs": [
    {
     "name": "stdout",
     "output_type": "stream",
     "text": [
      "I am in the outer function, and foo.x says: I am \"x\" in \"foo.py\"\n",
      "I am in the inner function, and foo.x says: I am \"x\" in \"foo.py\"\n"
     ]
    }
   ],
   "source": [
    "def print_foo():\n",
    "    print('I am in the outer function, and foo.x says: ' + foo.x)\n",
    "    def nested_foo():\n",
    "        print('I am in the inner function, and foo.x says: ' + foo.x)\n",
    "    nested_foo()\n",
    "\n",
    "print_foo()"
   ]
  },
  {
   "cell_type": "markdown",
   "metadata": {},
   "source": [
    "The following image shows the levels of scope, and how the namespace can be accessed from each level:\n",
    "![](images/namespaces.png)\n"
   ]
  },
  {
   "cell_type": "markdown",
   "metadata": {},
   "source": [
    "Something important in Python is that, if the namespace already contains a module, the import statement will not work again. So for example if we import `foo`, then we make changes to `foo`, importing `foo` again won't reflect those changes, because Python will already have a `foo` module in its namespace"
   ]
  },
  {
   "cell_type": "code",
   "execution_count": 1,
   "metadata": {},
   "outputs": [
    {
     "name": "stdout",
     "output_type": "stream",
     "text": [
      "I have changed\n"
     ]
    }
   ],
   "source": [
    "import foo\n",
    "print(foo.x)"
   ]
  },
  {
   "cell_type": "markdown",
   "metadata": {},
   "source": [
    "We can see that `foo.x` is the same as in `foo.py`. Now, we change the value in the main namespace"
   ]
  },
  {
   "cell_type": "code",
   "execution_count": 2,
   "metadata": {},
   "outputs": [
    {
     "name": "stdout",
     "output_type": "stream",
     "text": [
      "I changed, puberty things I guess...\n"
     ]
    }
   ],
   "source": [
    "foo.x = 'I changed...'\n",
    "print(foo.x)"
   ]
  },
  {
   "cell_type": "markdown",
   "metadata": {},
   "source": [
    "If we try to re-import `foo`, Python will check in its namespace, and it will see that there it already imported a module named `foo`, so it won't do anything."
   ]
  },
  {
   "cell_type": "code",
   "execution_count": null,
   "metadata": {},
   "outputs": [],
   "source": [
    "import foo\n",
    "print(foo.x)"
   ]
  },
  {
   "cell_type": "markdown",
   "metadata": {},
   "source": [
    "One final note about namespaces and scopes. Python has many libraries, and some methods will have unavoidably the same name. For example, the `time` method appears in the `time` module and in the `datetime` module"
   ]
  },
  {
   "cell_type": "code",
   "execution_count": 3,
   "metadata": {},
   "outputs": [
    {
     "name": "stdout",
     "output_type": "stream",
     "text": [
      "00:00:00\n"
     ]
    }
   ],
   "source": [
    "from time import time\n",
    "from datetime import time\n",
    "\n",
    "print(time())"
   ]
  },
  {
   "cell_type": "markdown",
   "metadata": {},
   "source": [
    "Which one are we using? In this case, take into account that we are not importing the module, but only the methods. Python will overwrite previous names in the namespace, so it only takes the last import statement. If we want to store both methods, we have to alternatives:\n",
    "\n",
    "1. Simply importing the module, and add the name of the modules to the namespace\n",
    "2. Give an alias to the methods"
   ]
  },
  {
   "cell_type": "code",
   "execution_count": 4,
   "metadata": {},
   "outputs": [
    {
     "name": "stdout",
     "output_type": "stream",
     "text": [
      "00:00:00\n",
      "1628766281.0877702\n"
     ]
    }
   ],
   "source": [
    "import datetime\n",
    "import time\n",
    "\n",
    "print(datetime.time())\n",
    "print(time.time())"
   ]
  },
  {
   "cell_type": "code",
   "execution_count": 5,
   "metadata": {},
   "outputs": [
    {
     "name": "stdout",
     "output_type": "stream",
     "text": [
      "00:00:00\n",
      "1628766335.990367\n"
     ]
    }
   ],
   "source": [
    "from datetime import time as dttime\n",
    "from time import time as ttime\n",
    "\n",
    "print(dttime())\n",
    "print(ttime())"
   ]
  },
  {
   "cell_type": "markdown",
   "metadata": {},
   "source": [
    "## Questions\n",
    "\n",
    "Wait for the fantastic instructor to Ctrl+C Ctrl+V the code and guess the outputs"
   ]
  },
  {
   "cell_type": "markdown",
   "metadata": {},
   "source": [
    "# Separation Rules in Python"
   ]
  },
  {
   "cell_type": "markdown",
   "metadata": {},
   "source": [
    "> ## Do one thing and do it well"
   ]
  },
  {
   "cell_type": "markdown",
   "metadata": {},
   "source": [
    "This is the Unix philosophy for separting concerns. Each part of your code should be CONCERNed with one behaviour, and each CONCERN should be covered by only one piece of code.\n",
    "\n",
    "We are going to review two tools that we already know to apply this principle: Functions and Classes.\n",
    "\n",
    "## Functions for separating concerns\n",
    "\n",
    "1. __Don't create two pieces of code that do something similar__. For example, the concern of one part is used for extracting images of cats, and the concern of other piece is used for extracting images of dogs. Instead, create a function that accepts an argument. \n",
    "\n",
    "Don't do this:\n"
   ]
  },
  {
   "cell_type": "code",
   "execution_count": 1,
   "metadata": {},
   "outputs": [
    {
     "ename": "NoSuchElementException",
     "evalue": "Message: no such element: Unable to locate element: {\"method\":\"xpath\",\"selector\":\"//img[@class=\"_2UpQX\"]\"}\n  (Session info: chrome=92.0.4515.131)\n",
     "output_type": "error",
     "traceback": [
      "\u001b[0;31m---------------------------------------------------------------------------\u001b[0m",
      "\u001b[0;31mNoSuchElementException\u001b[0m                    Traceback (most recent call last)",
      "\u001b[0;32m<ipython-input-1-75f978e435ca>\u001b[0m in \u001b[0;36m<module>\u001b[0;34m\u001b[0m\n\u001b[1;32m     15\u001b[0m     \u001b[0mdriver\u001b[0m\u001b[0;34m.\u001b[0m\u001b[0mget\u001b[0m\u001b[0;34m(\u001b[0m\u001b[0mlink\u001b[0m\u001b[0;34m)\u001b[0m\u001b[0;34m\u001b[0m\u001b[0;34m\u001b[0m\u001b[0m\n\u001b[1;32m     16\u001b[0m     \u001b[0mtime\u001b[0m\u001b[0;34m.\u001b[0m\u001b[0msleep\u001b[0m\u001b[0;34m(\u001b[0m\u001b[0;36m0.5\u001b[0m\u001b[0;34m)\u001b[0m\u001b[0;34m\u001b[0m\u001b[0;34m\u001b[0m\u001b[0m\n\u001b[0;32m---> 17\u001b[0;31m     \u001b[0msrc\u001b[0m \u001b[0;34m=\u001b[0m \u001b[0mdriver\u001b[0m\u001b[0;34m.\u001b[0m\u001b[0mfind_element_by_xpath\u001b[0m\u001b[0;34m(\u001b[0m\u001b[0;34m'//img[@class=\"_2UpQX\"]'\u001b[0m\u001b[0;34m)\u001b[0m\u001b[0;34m.\u001b[0m\u001b[0mget_attribute\u001b[0m\u001b[0;34m(\u001b[0m\u001b[0;34m'src'\u001b[0m\u001b[0;34m)\u001b[0m\u001b[0;34m\u001b[0m\u001b[0;34m\u001b[0m\u001b[0m\n\u001b[0m\u001b[1;32m     18\u001b[0m     \u001b[0murllib\u001b[0m\u001b[0;34m.\u001b[0m\u001b[0mrequest\u001b[0m\u001b[0;34m.\u001b[0m\u001b[0murlretrieve\u001b[0m\u001b[0;34m(\u001b[0m\u001b[0msrc\u001b[0m\u001b[0;34m,\u001b[0m \u001b[0;34mf\"dog_{i}.jpg\"\u001b[0m\u001b[0;34m)\u001b[0m\u001b[0;34m\u001b[0m\u001b[0;34m\u001b[0m\u001b[0m\n\u001b[1;32m     19\u001b[0m \u001b[0;34m\u001b[0m\u001b[0m\n",
      "\u001b[0;32m/opt/miniconda3/lib/python3.9/site-packages/selenium/webdriver/remote/webdriver.py\u001b[0m in \u001b[0;36mfind_element_by_xpath\u001b[0;34m(self, xpath)\u001b[0m\n\u001b[1;32m    392\u001b[0m             \u001b[0melement\u001b[0m \u001b[0;34m=\u001b[0m \u001b[0mdriver\u001b[0m\u001b[0;34m.\u001b[0m\u001b[0mfind_element_by_xpath\u001b[0m\u001b[0;34m(\u001b[0m\u001b[0;34m'//div/td[1]'\u001b[0m\u001b[0;34m)\u001b[0m\u001b[0;34m\u001b[0m\u001b[0;34m\u001b[0m\u001b[0m\n\u001b[1;32m    393\u001b[0m         \"\"\"\n\u001b[0;32m--> 394\u001b[0;31m         \u001b[0;32mreturn\u001b[0m \u001b[0mself\u001b[0m\u001b[0;34m.\u001b[0m\u001b[0mfind_element\u001b[0m\u001b[0;34m(\u001b[0m\u001b[0mby\u001b[0m\u001b[0;34m=\u001b[0m\u001b[0mBy\u001b[0m\u001b[0;34m.\u001b[0m\u001b[0mXPATH\u001b[0m\u001b[0;34m,\u001b[0m \u001b[0mvalue\u001b[0m\u001b[0;34m=\u001b[0m\u001b[0mxpath\u001b[0m\u001b[0;34m)\u001b[0m\u001b[0;34m\u001b[0m\u001b[0;34m\u001b[0m\u001b[0m\n\u001b[0m\u001b[1;32m    395\u001b[0m \u001b[0;34m\u001b[0m\u001b[0m\n\u001b[1;32m    396\u001b[0m     \u001b[0;32mdef\u001b[0m \u001b[0mfind_elements_by_xpath\u001b[0m\u001b[0;34m(\u001b[0m\u001b[0mself\u001b[0m\u001b[0;34m,\u001b[0m \u001b[0mxpath\u001b[0m\u001b[0;34m)\u001b[0m\u001b[0;34m:\u001b[0m\u001b[0;34m\u001b[0m\u001b[0;34m\u001b[0m\u001b[0m\n",
      "\u001b[0;32m/opt/miniconda3/lib/python3.9/site-packages/selenium/webdriver/remote/webdriver.py\u001b[0m in \u001b[0;36mfind_element\u001b[0;34m(self, by, value)\u001b[0m\n\u001b[1;32m    974\u001b[0m                 \u001b[0mby\u001b[0m \u001b[0;34m=\u001b[0m \u001b[0mBy\u001b[0m\u001b[0;34m.\u001b[0m\u001b[0mCSS_SELECTOR\u001b[0m\u001b[0;34m\u001b[0m\u001b[0;34m\u001b[0m\u001b[0m\n\u001b[1;32m    975\u001b[0m                 \u001b[0mvalue\u001b[0m \u001b[0;34m=\u001b[0m \u001b[0;34m'[name=\"%s\"]'\u001b[0m \u001b[0;34m%\u001b[0m \u001b[0mvalue\u001b[0m\u001b[0;34m\u001b[0m\u001b[0;34m\u001b[0m\u001b[0m\n\u001b[0;32m--> 976\u001b[0;31m         return self.execute(Command.FIND_ELEMENT, {\n\u001b[0m\u001b[1;32m    977\u001b[0m             \u001b[0;34m'using'\u001b[0m\u001b[0;34m:\u001b[0m \u001b[0mby\u001b[0m\u001b[0;34m,\u001b[0m\u001b[0;34m\u001b[0m\u001b[0;34m\u001b[0m\u001b[0m\n\u001b[1;32m    978\u001b[0m             'value': value})['value']\n",
      "\u001b[0;32m/opt/miniconda3/lib/python3.9/site-packages/selenium/webdriver/remote/webdriver.py\u001b[0m in \u001b[0;36mexecute\u001b[0;34m(self, driver_command, params)\u001b[0m\n\u001b[1;32m    319\u001b[0m         \u001b[0mresponse\u001b[0m \u001b[0;34m=\u001b[0m \u001b[0mself\u001b[0m\u001b[0;34m.\u001b[0m\u001b[0mcommand_executor\u001b[0m\u001b[0;34m.\u001b[0m\u001b[0mexecute\u001b[0m\u001b[0;34m(\u001b[0m\u001b[0mdriver_command\u001b[0m\u001b[0;34m,\u001b[0m \u001b[0mparams\u001b[0m\u001b[0;34m)\u001b[0m\u001b[0;34m\u001b[0m\u001b[0;34m\u001b[0m\u001b[0m\n\u001b[1;32m    320\u001b[0m         \u001b[0;32mif\u001b[0m \u001b[0mresponse\u001b[0m\u001b[0;34m:\u001b[0m\u001b[0;34m\u001b[0m\u001b[0;34m\u001b[0m\u001b[0m\n\u001b[0;32m--> 321\u001b[0;31m             \u001b[0mself\u001b[0m\u001b[0;34m.\u001b[0m\u001b[0merror_handler\u001b[0m\u001b[0;34m.\u001b[0m\u001b[0mcheck_response\u001b[0m\u001b[0;34m(\u001b[0m\u001b[0mresponse\u001b[0m\u001b[0;34m)\u001b[0m\u001b[0;34m\u001b[0m\u001b[0;34m\u001b[0m\u001b[0m\n\u001b[0m\u001b[1;32m    322\u001b[0m             response['value'] = self._unwrap_value(\n\u001b[1;32m    323\u001b[0m                 response.get('value', None))\n",
      "\u001b[0;32m/opt/miniconda3/lib/python3.9/site-packages/selenium/webdriver/remote/errorhandler.py\u001b[0m in \u001b[0;36mcheck_response\u001b[0;34m(self, response)\u001b[0m\n\u001b[1;32m    240\u001b[0m                 \u001b[0malert_text\u001b[0m \u001b[0;34m=\u001b[0m \u001b[0mvalue\u001b[0m\u001b[0;34m[\u001b[0m\u001b[0;34m'alert'\u001b[0m\u001b[0;34m]\u001b[0m\u001b[0;34m.\u001b[0m\u001b[0mget\u001b[0m\u001b[0;34m(\u001b[0m\u001b[0;34m'text'\u001b[0m\u001b[0;34m)\u001b[0m\u001b[0;34m\u001b[0m\u001b[0;34m\u001b[0m\u001b[0m\n\u001b[1;32m    241\u001b[0m             \u001b[0;32mraise\u001b[0m \u001b[0mexception_class\u001b[0m\u001b[0;34m(\u001b[0m\u001b[0mmessage\u001b[0m\u001b[0;34m,\u001b[0m \u001b[0mscreen\u001b[0m\u001b[0;34m,\u001b[0m \u001b[0mstacktrace\u001b[0m\u001b[0;34m,\u001b[0m \u001b[0malert_text\u001b[0m\u001b[0;34m)\u001b[0m\u001b[0;34m\u001b[0m\u001b[0;34m\u001b[0m\u001b[0m\n\u001b[0;32m--> 242\u001b[0;31m         \u001b[0;32mraise\u001b[0m \u001b[0mexception_class\u001b[0m\u001b[0;34m(\u001b[0m\u001b[0mmessage\u001b[0m\u001b[0;34m,\u001b[0m \u001b[0mscreen\u001b[0m\u001b[0;34m,\u001b[0m \u001b[0mstacktrace\u001b[0m\u001b[0;34m)\u001b[0m\u001b[0;34m\u001b[0m\u001b[0;34m\u001b[0m\u001b[0m\n\u001b[0m\u001b[1;32m    243\u001b[0m \u001b[0;34m\u001b[0m\u001b[0m\n\u001b[1;32m    244\u001b[0m     \u001b[0;32mdef\u001b[0m \u001b[0m_value_or_default\u001b[0m\u001b[0;34m(\u001b[0m\u001b[0mself\u001b[0m\u001b[0;34m,\u001b[0m \u001b[0mobj\u001b[0m\u001b[0;34m,\u001b[0m \u001b[0mkey\u001b[0m\u001b[0;34m,\u001b[0m \u001b[0mdefault\u001b[0m\u001b[0;34m)\u001b[0m\u001b[0;34m:\u001b[0m\u001b[0;34m\u001b[0m\u001b[0;34m\u001b[0m\u001b[0m\n",
      "\u001b[0;31mNoSuchElementException\u001b[0m: Message: no such element: Unable to locate element: {\"method\":\"xpath\",\"selector\":\"//img[@class=\"_2UpQX\"]\"}\n  (Session info: chrome=92.0.4515.131)\n"
     ]
    }
   ],
   "source": [
    "from selenium import webdriver\n",
    "import urllib.request\n",
    "import time\n",
    "\n",
    "driver = webdriver.Chrome()\n",
    "# Get links for dogs\n",
    "URL = 'https://unsplash.com/s/photos/dog'\n",
    "driver.get(URL)\n",
    "dog_list = driver.find_elements_by_xpath('//figure[@itemprop=\"image\"]')\n",
    "links = []\n",
    "for dog in dog_list:\n",
    "    links.append(dog.find_element_by_xpath('.//a').get_attribute('href'))\n",
    "# go to the link containing the image\n",
    "for i, link in enumerate(links):\n",
    "    driver.get(link)\n",
    "    time.sleep(0.5)\n",
    "    src = driver.find_element_by_xpath('//img[@class=\"_2UpQX\"]').get_attribute('src')\n",
    "    urllib.request.urlretrieve(src, f\"dog_{i}.jpg\")\n",
    "    \n",
    "# Get links for cats\n",
    "URL = 'https://unsplash.com/s/photos/cat'\n",
    "driver.get(URL)\n",
    "cat_list = driver.find_elements_by_xpath('//figure[@itemprop=\"image\"]')\n",
    "links = []\n",
    "for cat in cat_list:\n",
    "    links.append(cat.find_element_by_xpath('.//a').get_attribute('href'))\n",
    "# go to the link containing the image\n",
    "for i, link in enumerate(links):\n",
    "    driver.get(link)\n",
    "    time.sleep(0.5)\n",
    "    src = driver.find_element_by_xpath('//img[@class=\"_2UpQX\"]').get_attribute('src')\n",
    "    urllib.request.urlretrieve(src, f\"cat_{i}.jpg\")"
   ]
  },
  {
   "cell_type": "markdown",
   "metadata": {},
   "source": [
    "Do this:"
   ]
  },
  {
   "cell_type": "code",
   "execution_count": 18,
   "metadata": {},
   "outputs": [],
   "source": [
    "from selenium import webdriver\n",
    "\n",
    "def get_animal_pictures(driver: webdriver, animal: str, root: str) -> None:\n",
    "    URL = root + animal\n",
    "    driver.get(URL)\n",
    "    animal_list = driver.find_elements_by_xpath('//figure[@itemprop=\"image\"]')\n",
    "    links = []\n",
    "    for item in animal_list:\n",
    "        links.append(item.find_element_by_xpath('.//a').get_attribute('href'))\n",
    "    # go to the link containing the image\n",
    "    for i, link in enumerate(links):\n",
    "        driver.get(link)\n",
    "        time.sleep(0.5)\n",
    "        src = driver.find_element_by_xpath('//img[@class=\"_2UpQX\"]').get_attribute('src')\n",
    "        urllib.request.urlretrieve(src, f\"{animal}_{i}.jpg\") # <- We are also using the variable animal here!\n",
    "\n",
    "driver = webdriver.Chrome()\n",
    "root = 'https://unsplash.com/s/photos/'\n",
    "animal = 'cat'\n",
    "get_animal_pictures(driver, animal, root)"
   ]
  },
  {
   "cell_type": "markdown",
   "metadata": {},
   "source": [
    "\n",
    "2. __Don't have the same piece of code with two concerns__. For example, a piece of code go to the webpage to extract the links AND iterate through the links AND download the images. Instead create a function for each concern.\n",
    "\n",
    "Thus, instead of the code above:"
   ]
  },
  {
   "cell_type": "code",
   "execution_count": null,
   "metadata": {},
   "outputs": [],
   "source": [
    "from selenium import webdriver\n",
    "\n",
    "def extract_links(driver: webdriver, animal: str, root: str) -> list:\n",
    "    URL = root + animal\n",
    "    driver.get(URL)\n",
    "    animal_list = driver.find_elements_by_xpath('//figure[@itemprop=\"image\"]')\n",
    "    links = []\n",
    "    for item in animal_list:\n",
    "        links.append(item.find_element_by_xpath('.//a').get_attribute('href'))\n",
    "    return links\n",
    "\n",
    "def get_image_source(driver: webdriver, link: str) -> str:\n",
    "    driver.get(link)\n",
    "    time.sleep(0.5)\n",
    "    src = driver.find_element_by_xpath('//img[@class=\"_2UpQX\"]').get_attribute('src')\n",
    "    return src\n",
    "\n",
    "def download_images(src: str, animal: str, i: int) -> None:\n",
    "    urllib.request.urlretrieve(src, f\"{animal}_{i}.jpg\")\n",
    "\n",
    "\n",
    "animal = 'cat'\n",
    "root = 'https://unsplash.com/s/photos/'\n",
    "driver = webdriver.Chrome()\n",
    "links = extract_links(driver, animal, root)\n",
    "for i, link in enumerate(links):\n",
    "    src = get_image_source(driver, link)\n",
    "    download_images(src, animal, i)"
   ]
  },
  {
   "cell_type": "markdown",
   "metadata": {},
   "source": [
    "This looks like an overkill, but it's not (trust me, I would do it much more granulated). Separating each concern into functions looks like you are writing more code, but this way of separating everything will pay off. When you are adding features, debugging, or testing your code, you will see which part is causing the issue, because you are __detaching__ events.\n",
    "\n",
    ">  ## The higher the granularity, the easier the debugging"
   ]
  },
  {
   "cell_type": "markdown",
   "metadata": {},
   "source": [
    "For example, doing it this way allows you to easily change the animal (flexibility), you will be able to separate scopes and namespaces (robustness), and (something extremely important) increase readability. \n",
    "\n",
    "Now it looks like everything is too much because it is cramped into a single cell, but usually in your main code you will have the following:"
   ]
  },
  {
   "cell_type": "code",
   "execution_count": null,
   "metadata": {},
   "outputs": [],
   "source": [
    "animal = 'cat'\n",
    "root = 'https://unsplash.com/s/photos/'\n",
    "driver = webdriver.Chrome()\n",
    "links = extract_links(driver, animal, root)\n",
    "for i, link in enumerate(links):\n",
    "    src = get_image_source(driver, link)\n",
    "    download_images(src, animal, i)"
   ]
  },
  {
   "cell_type": "markdown",
   "metadata": {},
   "source": [
    "Before we move on, one word on function names:\n",
    "\n",
    "1. __Be concise__. Name your function with a descriptive name. get_info(), do_this() are not very informative. But don't go to the other end of the spectrum! get_information_about_the_weather_by_scraping_multiple_pages() is just too much!\n",
    "2. __Functions are actions__: Don't name your function with a name or subject, functions are actions, and as such, they should contain a verb: image_scraper(), rock_paper_scissor(), music_player()... these functions gives information, but they are not very specific. Is the image_scraper getting something? Maybe it just look for the links... \n",
    "3. __Use the name convention__: You can use any sort of writing, but try to stick to the convention. If someone sees GetImage(), they will assume it is a class. Function should have snake_case style."
   ]
  },
  {
   "cell_type": "markdown",
   "metadata": {},
   "source": [
    "## Classes for connecting concerns"
   ]
  },
  {
   "cell_type": "markdown",
   "metadata": {},
   "source": [
    "As you keep adding code to your project, more and more concerns will be added. Over time, you will see that functions will work in tandem frequently. If you pass the result of one function to another very frequently, or several functions require the same input, then, everything points that you need to define a class. \n",
    "\n",
    "We can simply put the functions into a class (but it won't be very efficient)"
   ]
  },
  {
   "cell_type": "code",
   "execution_count": 21,
   "metadata": {},
   "outputs": [],
   "source": [
    "from selenium import webdriver\n",
    "\n",
    "# Let's define our class\n",
    "class AnimalScraper:\n",
    "    def extract_links(driver: webdriver, animal: str, root: str) -> list:\n",
    "        URL = root + animal\n",
    "        driver.get(URL)\n",
    "        animal_list = driver.find_elements_by_xpath('//figure[@itemprop=\"image\"]')\n",
    "        links = []\n",
    "        for item in animal_list:\n",
    "            links.append(item.find_element_by_xpath('.//a').get_attribute('href'))\n",
    "        return links\n",
    "\n",
    "    def get_image_source(driver: webdriver, link: str) -> str:\n",
    "        driver.get(link)\n",
    "        time.sleep(0.5)\n",
    "        src = driver.find_element_by_xpath('//img[@class=\"_2UpQX\"]').get_attribute('src')\n",
    "        return src\n",
    "\n",
    "    def download_images(src: str, animal: str, i: int) -> None:\n",
    "        urllib.request.urlretrieve(src, f\"{animal}_{i}.jpg\")"
   ]
  },
  {
   "cell_type": "code",
   "execution_count": 22,
   "metadata": {},
   "outputs": [],
   "source": [
    "scraper = AnimalScraper()\n",
    "root = 'https://unsplash.com/s/photos/'\n",
    "driver = webdriver.Chrome()\n",
    "animal = 'cat'\n",
    "links = scraper.extract_links(driver=driver, animal=animal, root='https://unsplash.com/s/photos/')\n",
    "for i, link in enumerate(links):\n",
    "    src = scraper.get_image_source(driver=driver, link=link)\n",
    "    scraper.download_images(src=src, animal=animal, i=i)"
   ]
  },
  {
   "cell_type": "markdown",
   "metadata": {},
   "source": [
    "This seems quite useless... That's because we are not making the most out of classes. In the cell above, look at the variables for each method, they are repeated and/or depend on other method to be run. Instances created from classes can store values in its attributes. When we construct the class, we use the `__init__` method, and we give values to `self`"
   ]
  },
  {
   "cell_type": "code",
   "execution_count": 23,
   "metadata": {},
   "outputs": [],
   "source": [
    "from selenium import webdriver\n",
    "import time\n",
    "# Let's define our class\n",
    "class AnimalScraper:\n",
    "    def __init__(self, animal, root):\n",
    "        self.animal = animal\n",
    "        self.root = root\n",
    "        self.driver = webdriver.Chrome()\n",
    "        self.links = [] # Initialize links, so if the user calls for get_image_source, it doesn't throw an error\n",
    "    \n",
    "    def extract_links(self) -> None:\n",
    "        self.driver.get(root + animal)\n",
    "        animal_list = self.driver.find_elements_by_xpath('//figure[@itemprop=\"image\"]')\n",
    "        self.links = []\n",
    "        for item in animal_list:\n",
    "            self.links.append(item.find_element_by_xpath('.//a').get_attribute('href'))\n",
    "\n",
    "    def get_image_source(self, link: str) -> None:\n",
    "        self.driver.get(link)\n",
    "        time.sleep(0.5)\n",
    "        self.src = driver.find_element_by_xpath('//img[@class=\"_2UpQX\"]').get_attribute('src')\n",
    "\n",
    "    def download_images(self, i) -> None:\n",
    "        urllib.request.urlretrieve(self.src, f\"{self.animal}_{i}.jpg\")\n",
    "    \n",
    "    def get_animal_images(self):\n",
    "        self.extract_links()\n",
    "        for i, link in enumerate(self.links):\n",
    "            self.get_image_source(link)\n",
    "            self.download_images(i)\n",
    "        self.links = []"
   ]
  },
  {
   "cell_type": "markdown",
   "metadata": {},
   "source": [
    "Now, the your main code will look like this:"
   ]
  },
  {
   "cell_type": "code",
   "execution_count": null,
   "metadata": {},
   "outputs": [],
   "source": [
    "cat_scraper = AnimalScraper('cat', 'https://unsplash.com/s/photos/')\n",
    "cat_scraper.get_animal_images()"
   ]
  },
  {
   "cell_type": "markdown",
   "metadata": {},
   "source": [
    "Much more cleaner, and as an added bonus, the user can't easily access some variables we don't want him to see (for example, extract_links doesn't return anything)"
   ]
  },
  {
   "cell_type": "markdown",
   "metadata": {},
   "source": [
    "> ## Defining classes and refactoring your code is an art, and as such, it requires time and consistency to master"
   ]
  },
  {
   "cell_type": "markdown",
   "metadata": {},
   "source": [
    "# Summary"
   ]
  },
  {
   "cell_type": "markdown",
   "metadata": {},
   "source": [
    "- Separating concerns is crucial for understable code. Before separating your code and refactoring it, look at the big picture, and observe what is the main concern of your code. Then go deeper and separate everything into smaller concerns.\n",
    "- Functions contain individual concerns that can separate your code into chunks that make your code more understandable. Another benefit of using functions are their reusability\n",
    "- Classes bundle concerns that share inputs and outputs. They can store attributes that will be characteristic of a single instance, and changing the behaviour of the class by passing different arguments. Use them wisely!"
   ]
  },
  {
   "cell_type": "markdown",
   "metadata": {},
   "source": [
    "# Challenge:"
   ]
  },
  {
   "cell_type": "markdown",
   "metadata": {},
   "source": [
    "\n",
    "## Q1. Your task is to create a single class with ALL the functionalities of the following code"
   ]
  },
  {
   "cell_type": "code",
   "execution_count": 2,
   "metadata": {},
   "outputs": [
    {
     "name": "stdout",
     "output_type": "stream",
     "text": [
      "(1) Rock\n",
      "(2) Paper\n",
      "(3) Scissors\n",
      "You chose paper\n",
      "The computer chose paper\n",
      "Draw!\n"
     ]
    }
   ],
   "source": [
    "import random\n",
    "\n",
    "# Print the options:\n",
    "options = ['rock', 'paper', 'scissors']\n",
    "print('(1) Rock\\n(2) Paper\\n(3) Scissors')\n",
    "# Let the user choose\n",
    "human_choice = options[int(input('Enter the number of your choice: ')) - 1]\n",
    "# Print the user's choice\n",
    "print(f'You chose {human_choice}')\n",
    "# Make the computer choose one option amongst the options list\n",
    "computer_choice = random.choice(options)\n",
    "# print the computer's choice\n",
    "print(f'The computer chose {computer_choice}')\n",
    "# Print the results\n",
    "if human_choice == 'rock':\n",
    "    if computer_choice == 'paper':\n",
    "        print('Sorry, paper beat rock')\n",
    "    elif computer_choice == 'scissors':\n",
    "        print('Yes, rock beat scissors!')\n",
    "    else:\n",
    "        print('Draw!')\n",
    "elif human_choice == 'paper':\n",
    "    if computer_choice == 'scissors':\n",
    "        print('Sorry, scissors beat paper')\n",
    "    elif computer_choice == 'rock':\n",
    "        print('Yes, paper beat rock!')\n",
    "    else:\n",
    "        print('Draw!')\n",
    "elif human_choice == 'scissors':\n",
    "    if computer_choice == 'rock':\n",
    "        print('Sorry, rock beat scissors')\n",
    "    elif computer_choice == 'paper':\n",
    "        print('Yes, scissors beat paper!')\n",
    "    else:\n",
    "        print('Draw!')"
   ]
  },
  {
   "cell_type": "markdown",
   "metadata": {},
   "source": [
    "### Q1.a  First, create the following functions:\n",
    "1. get_computer_choice(). Randomly pick an option\n",
    "2. get_human_choice(). Ask the user for an input\n",
    "3. print_options(). For this one, try to make it more flexible, so options can take more values eventually\n",
    "4. print_choices(human_choice, computer_choice). Print two lines, where each one corresponds to the choice of each player\n",
    "5. print_result(human_choice, computer_choice). Use the print_win_lose function to print who won according to the rules of the game"
   ]
  },
  {
   "cell_type": "code",
   "execution_count": null,
   "metadata": {},
   "outputs": [],
   "source": [
    "def print_win_lose(human_choice, computer_choice, human_beats, human_loses_to):\n",
    "    if computer_choice == human_loses_to:\n",
    "        print(f'Sorry, {computer_choice} beats {human_choice}')\n",
    "    elif computer_choice == human_beats:\n",
    "        print(f'Yes, {human_choice} beats {computer_choice}!')"
   ]
  },
  {
   "cell_type": "code",
   "execution_count": null,
   "metadata": {},
   "outputs": [],
   "source": [
    "### Create the functions here"
   ]
  },
  {
   "cell_type": "markdown",
   "metadata": {},
   "source": [
    "Once you create the functions, run the following code"
   ]
  },
  {
   "cell_type": "code",
   "execution_count": null,
   "metadata": {},
   "outputs": [],
   "source": [
    "import random\n",
    "\n",
    "OPTIONS = ['rock', 'paper', 'scissors']\n",
    "\n",
    "print_options()\n",
    "human_choice = get_human_choice()\n",
    "computer_choice = get_computer_choice()\n",
    "print_choices(human_choice, computer_choice)\n",
    "print_result(human_choice, computer_choice)"
   ]
  },
  {
   "cell_type": "markdown",
   "metadata": {},
   "source": [
    "### Q1.b Move the function into a class as methods"
   ]
  },
  {
   "cell_type": "code",
   "execution_count": null,
   "metadata": {},
   "outputs": [],
   "source": [
    "import random\n",
    "\n",
    "class JanKenPon:\n",
    "    options = ['rock', 'paper', 'scissors']\n",
    "    def __init__(self):\n",
    "        self.computer_choice = None\n",
    "        self.human_choice = None\n",
    "    \n",
    "    def get_computer_choice(self):\n",
    "        self.computer = random.choice(self.options)\n",
    "    \n",
    "    def get_human_choice(self):\n",
    "        ### Your code here###\n",
    "        pass\n",
    "\n",
    "    def print_options(self):\n",
    "        ### Your code here###\n",
    "        pass\n",
    "\n",
    "    def print_choices(self): \n",
    "        ### Your code here###\n",
    "        pass\n",
    "\n",
    "    def print_win_lose(self, human_beats, human_loses_to):\n",
    "        ### Your code here###\n",
    "        pass\n",
    "\n",
    "    def print_result(self):\n",
    "        ### Your code here###\n",
    "        pass\n",
    "\n",
    "    def simulate(self):\n",
    "        self.print_options()\n",
    "        self.get_human_choice()\n",
    "        self.get_computer_choice()\n",
    "        self.print_choices()\n",
    "        self.print_result()\n",
    "\n",
    "game = JanKenPon()\n",
    "game.simulate()\n"
   ]
  },
  {
   "cell_type": "markdown",
   "metadata": {},
   "source": [
    "## Q2 Bonus\n",
    "\n",
    "Can you implement a class that takes more than 3 options? For example `[rock, paper, scissors, lizard, spock]`"
   ]
  },
  {
   "cell_type": "markdown",
   "metadata": {},
   "source": [
    "# Assessments"
   ]
  },
  {
   "cell_type": "markdown",
   "metadata": {},
   "source": [
    "### 1. Look information about the module builtins. Do you see something familiar in its methods and attributes?\n"
   ]
  },
  {
   "cell_type": "markdown",
   "metadata": {},
   "source": [
    "### 2. There are two keywords for defining the scope of a variable within a function: `global` and `nonlocal`. Look for information about them, what is their difference?"
   ]
  },
  {
   "cell_type": "markdown",
   "metadata": {},
   "source": [
    "### 3. Decorators have an inner function, which is usually named wrapper. When you pass a function to the decorator function, the nested wrapper will get access to that function. How do you send arguments so that the wrapper can also accept external arguments?"
   ]
  },
  {
   "cell_type": "code",
   "execution_count": null,
   "metadata": {},
   "outputs": [],
   "source": [
    "def my_decorator(func):\n",
    "    def wrapper(): # <- What do you write inside?\n",
    "        func() # <- so that this function can run with external arguments?\n",
    "    return wrapper"
   ]
  },
  {
   "cell_type": "markdown",
   "metadata": {},
   "source": [
    "### 3.1 Can my_decorator access to the arguments you pass to wrapper?"
   ]
  },
  {
   "cell_type": "markdown",
   "metadata": {},
   "source": []
  }
 ],
 "metadata": {
  "interpreter": {
   "hash": "569d6b7e9215e11aba41c6454007e5c1b78bad7df09dab765d8cf00362c40f03"
  },
  "kernelspec": {
   "display_name": "Python 3",
   "language": "python",
   "name": "python3"
  },
  "language_info": {
   "codemirror_mode": {
    "name": "ipython",
    "version": 3
   },
   "file_extension": ".py",
   "mimetype": "text/x-python",
   "name": "python",
   "nbconvert_exporter": "python",
   "pygments_lexer": "ipython3",
   "version": "3.9.6"
  }
 },
 "nbformat": 4,
 "nbformat_minor": 2
}
