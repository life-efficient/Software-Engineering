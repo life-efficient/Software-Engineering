{
 "cells": [
  {
   "cell_type": "markdown",
   "source": [
    "# Stacks and Queues"
   ],
   "metadata": {}
  },
  {
   "cell_type": "markdown",
   "source": [
    "Stacks and Queues are a very common data structure in computer science. They use the same principle as linked lists; the main advantage of __Stacks__ is that they can be accessed in a LIFO (last in, first out) fashion. On the other hand __Queus__ are accessed in a FIFO (first in, first out) fashion.\n",
    "\n",
    "![](images/Stacks_Queues.png)"
   ],
   "metadata": {}
  },
  {
   "cell_type": "markdown",
   "source": [
    "In Python we can implement Stacks and Queus using regular lists. Hoewever, as we saw in the previous notebook, using lists is not the most efficient way to implement these data structures. As mentioned, lists are efficient to access and modify, but they are not efficient for adding and removing elements."
   ],
   "metadata": {}
  },
  {
   "cell_type": "markdown",
   "source": [
    "## Stacks\n",
    "\n",
    "As mentioned, stacks work in a LIFO (Last In First Out) manner.\n",
    "\n",
    "![](images/stacks.gif)\n",
    "\n",
    "In many programming languages, stacks have the following methods:\n",
    "\n",
    "1. pop(): Remove the top item from the stack.\n",
    "2. push(): Add an item to the top of the stack.\n",
    "3. peek(): Return the top item from the stack.\n",
    "4. isEmpty(): Return true if the stack is empty.\n",
    "\n",
    "Unlike lists, stacks doesn't offer random access to the ith item, but the time of operations for adding or removing items is the same.\n",
    "\n",
    "Therefore, even though lists offer more flexibility, stacks are more efficient.\n",
    "\n",
    "Let's see how to implement a stack in Python. We will use a similar methodology as the one used for implementing Linked Lists."
   ],
   "metadata": {}
  },
  {
   "cell_type": "code",
   "execution_count": 1,
   "source": [
    "class Node:\r\n",
    "    def __init__(self, data):\r\n",
    "        self.data = data\r\n",
    "        self.next = None\r\n",
    "\r\n",
    "    def __repr__(self):\r\n",
    "        return str(self.data)\r\n",
    "\r\n",
    "class MyStack:\r\n",
    "    def __init__(self, nodes: list = None):\r\n",
    "        self.head = None\r\n",
    "        if nodes is not None:\r\n",
    "            # pop(0) is the first element and assigns it to head\r\n",
    "            node = Node(data=nodes.pop(0)) \r\n",
    "            self.head = node\r\n",
    "            # Iterate over the rest of the list\r\n",
    "            for elem in nodes:\r\n",
    "                node.next = Node(data=elem)\r\n",
    "                node = node.next\r\n",
    "    \r\n",
    "    def __repr__(self):\r\n",
    "        node = self.head\r\n",
    "        nodes = []\r\n",
    "        # Iterate over the list until we reach a None element\r\n",
    "        while node is not None:\r\n",
    "            # Cast it into a string so it can be represented\r\n",
    "            nodes.append(str(node.data))\r\n",
    "            node = node.next\r\n",
    "        return \" \".join(nodes) + \" <-- Last item\"\r\n",
    "\r\n",
    "    def __iter__(self):\r\n",
    "        # iter makes this class iterable\r\n",
    "        node = self.head\r\n",
    "        while node is not None:\r\n",
    "            yield node\r\n",
    "            node = node.next\r\n",
    "        "
   ],
   "outputs": [],
   "metadata": {}
  },
  {
   "cell_type": "markdown",
   "source": [
    "Let's check that our MyStack class is working as expected."
   ],
   "metadata": {}
  },
  {
   "cell_type": "code",
   "execution_count": 2,
   "source": [
    "my_stack = MyStack()\r\n",
    "my_stack"
   ],
   "outputs": [
    {
     "output_type": "execute_result",
     "data": {
      "text/plain": [
       " <-- Last item"
      ]
     },
     "metadata": {},
     "execution_count": 2
    }
   ],
   "metadata": {}
  },
  {
   "cell_type": "code",
   "execution_count": 3,
   "source": [
    "print(my_stack.head)"
   ],
   "outputs": [
    {
     "output_type": "stream",
     "name": "stdout",
     "text": [
      "None\n"
     ]
    }
   ],
   "metadata": {}
  },
  {
   "cell_type": "markdown",
   "source": [
    "looks fine! Let's implement the push operation."
   ],
   "metadata": {}
  },
  {
   "cell_type": "code",
   "execution_count": 4,
   "source": [
    "class MyStack:\r\n",
    "    def __init__(self, nodes: list = None):\r\n",
    "        self.head = None\r\n",
    "        if nodes is not None:\r\n",
    "            node = Node(data=nodes.pop(0)) \r\n",
    "            self.head = node\r\n",
    "            for elem in nodes:\r\n",
    "                node.next = Node(data=elem)\r\n",
    "                node = node.next\r\n",
    "    \r\n",
    "    def __repr__(self):\r\n",
    "        node = self.head\r\n",
    "        nodes = []\r\n",
    "        while node is not None:\r\n",
    "            nodes.append(str(node.data))\r\n",
    "            node = node.next\r\n",
    "        return \" \".join(nodes) + \" <-- Last item\"\r\n",
    "    \r\n",
    "    def __iter__(self):\r\n",
    "        node = self.head\r\n",
    "        while node is not None:\r\n",
    "            yield node\r\n",
    "            node = node.next\r\n",
    "        \r\n",
    "    def push(self, node: int):\r\n",
    "        # If the stack is empty, add the node as the head\r\n",
    "        if self.head is None:\r\n",
    "            self.head = Node(data=node)\r\n",
    "            return\r\n",
    "        # Otherwise, add the node as the next of the current head\r\n",
    "        # So first we need to find the end of the list\r\n",
    "        for current_node in self:\r\n",
    "            pass\r\n",
    "        current_node.next = Node(data=node)\r\n"
   ],
   "outputs": [],
   "metadata": {}
  },
  {
   "cell_type": "markdown",
   "source": [
    "Let's check that the push operation is really working."
   ],
   "metadata": {}
  },
  {
   "cell_type": "code",
   "execution_count": 5,
   "source": [
    "my_stack = MyStack([1, 2, 3, 4, 5])\r\n",
    "print(my_stack)\r\n",
    "my_stack.push(6)\r\n",
    "print(my_stack)\r\n",
    "my_stack.push(7)\r\n",
    "print(my_stack)"
   ],
   "outputs": [
    {
     "output_type": "stream",
     "name": "stdout",
     "text": [
      "1 2 3 4 5 <-- Last item\n",
      "1 2 3 4 5 6 <-- Last item\n",
      "1 2 3 4 5 6 7 <-- Last item\n"
     ]
    }
   ],
   "metadata": {}
  },
  {
   "cell_type": "markdown",
   "source": [
    "Great, let's add the pop operation to our stack. Spoiler alert: it's a little more complicated than it looks."
   ],
   "metadata": {}
  },
  {
   "cell_type": "code",
   "execution_count": 6,
   "source": [
    "class MyStack:\r\n",
    "    def __init__(self, nodes: list = None):\r\n",
    "        self.head = None\r\n",
    "        if nodes is not None:\r\n",
    "            node = Node(data=nodes.pop(0)) \r\n",
    "            self.head = node\r\n",
    "            for elem in nodes:\r\n",
    "                node.next = Node(data=elem)\r\n",
    "                node = node.next\r\n",
    "    \r\n",
    "    def __repr__(self):\r\n",
    "        node = self.head\r\n",
    "        nodes = []\r\n",
    "        while node is not None:\r\n",
    "            nodes.append(str(node.data))\r\n",
    "            node = node.next\r\n",
    "        return \" \".join(nodes) + \" <-- Last item\"\r\n",
    "    \r\n",
    "    def __iter__(self):\r\n",
    "        node = self.head\r\n",
    "        while node is not None:\r\n",
    "            yield node\r\n",
    "            node = node.next\r\n",
    "        \r\n",
    "    def push(self, node: int):\r\n",
    "        # If the stack is empty, add the node as the head\r\n",
    "        if self.head is None:\r\n",
    "            self.head = node\r\n",
    "            return\r\n",
    "        # Otherwise, add the node as the next of the current head\r\n",
    "        # So first we need to find the end of the list\r\n",
    "        for current_node in self:\r\n",
    "            pass\r\n",
    "        current_node.next = Node(data=node)\r\n",
    "\r\n",
    "    def pop(self):\r\n",
    "        if self.head is None:\r\n",
    "            raise Exception(\"Stack is empty\")\r\n",
    "        # If the stack has only one node, return the head and\r\n",
    "        # the list will be empty\r\n",
    "        if self.head.next == None:\r\n",
    "            first = self.head\r\n",
    "            self.head = None\r\n",
    "            return first\r\n",
    "        # We need to find the penultimate node, so if the\r\n",
    "        # next of the next node is None, we have found it\r\n",
    "        second_last = self.head\r\n",
    "        while (second_last.next.next):\r\n",
    "            second_last = second_last.next\r\n",
    "        last = second_last.next\r\n",
    "        second_last.next = None\r\n",
    "        return last\r\n"
   ],
   "outputs": [],
   "metadata": {}
  },
  {
   "cell_type": "code",
   "execution_count": 7,
   "source": [
    "my_stack = MyStack([1, 2, 3, 4, 5])\r\n",
    "print(my_stack)\r\n",
    "my_stack.push(6)\r\n",
    "print(my_stack)\r\n",
    "popped = my_stack.pop()\r\n",
    "print(my_stack)\r\n",
    "print(popped)\r\n",
    "popped = my_stack.pop()\r\n",
    "print(my_stack)\r\n",
    "print(popped)\r\n",
    "\r\n"
   ],
   "outputs": [
    {
     "output_type": "stream",
     "name": "stdout",
     "text": [
      "1 2 3 4 5 <-- Last item\n",
      "1 2 3 4 5 6 <-- Last item\n",
      "1 2 3 4 5 <-- Last item\n",
      "6\n",
      "1 2 3 4 <-- Last item\n",
      "5\n"
     ]
    }
   ],
   "metadata": {}
  },
  {
   "cell_type": "code",
   "execution_count": 20,
   "source": [
    "my_ls = [1, 2, 3, 4, 5]\r\n",
    "my_ls.append(6)\r\n",
    "popped_ls = my_ls.pop()"
   ],
   "outputs": [],
   "metadata": {}
  },
  {
   "cell_type": "code",
   "execution_count": 21,
   "source": [
    "print(my_ls)\r\n",
    "print(popped_ls)"
   ],
   "outputs": [
    {
     "output_type": "stream",
     "name": "stdout",
     "text": [
      "[1, 2, 3, 4, 5]\n",
      "6\n"
     ]
    }
   ],
   "metadata": {}
  },
  {
   "cell_type": "markdown",
   "source": [
    "The easiest operation on a stack are peek and isEmpty. Let's do it!"
   ],
   "metadata": {}
  },
  {
   "cell_type": "code",
   "execution_count": 11,
   "source": [
    "class MyStack:\r\n",
    "    def __init__(self, nodes: list = None):\r\n",
    "        self.head = None\r\n",
    "        if nodes is not None:\r\n",
    "            node = Node(data=nodes.pop(0)) \r\n",
    "            self.head = node\r\n",
    "            for elem in nodes:\r\n",
    "                node.next = Node(data=elem)\r\n",
    "                node = node.next\r\n",
    "    \r\n",
    "    def __repr__(self):\r\n",
    "        node = self.head\r\n",
    "        nodes = []\r\n",
    "        while node is not None:\r\n",
    "            nodes.append(str(node.data))\r\n",
    "            node = node.next\r\n",
    "        return \" \".join(nodes) + \" <-- Last item\"\r\n",
    "    \r\n",
    "    def __iter__(self):\r\n",
    "        node = self.head\r\n",
    "        while node is not None:\r\n",
    "            yield node\r\n",
    "            node = node.next\r\n",
    "        \r\n",
    "    def push(self, node: int):\r\n",
    "        # If the stack is empty, add the node as the head\r\n",
    "        if self.head is None:\r\n",
    "            self.head = node\r\n",
    "            return\r\n",
    "        # Otherwise, add the node as the next of the current head\r\n",
    "        # So first we need to find the end of the list\r\n",
    "        for current_node in self:\r\n",
    "            pass\r\n",
    "        current_node.next = Node(data=node)\r\n",
    "\r\n",
    "    def pop(self):\r\n",
    "        if self.head is None:\r\n",
    "            raise Exception(\"List is empty\")\r\n",
    "        # If the stack has only one node, return the head and\r\n",
    "        # the list will be empty\r\n",
    "        if self.head.next == None:\r\n",
    "            first = self.head\r\n",
    "            self.head = None\r\n",
    "            return first\r\n",
    "        # We need to find the penultimate node, so if the\r\n",
    "        # next of the next node is None, we have found it\r\n",
    "        second_last = self.head\r\n",
    "        while(second_last.next.next):\r\n",
    "            second_last = second_last.next\r\n",
    "        last = second_last.next\r\n",
    "        second_last.next = None\r\n",
    "        return last\r\n",
    "\r\n",
    "    def peek(self):\r\n",
    "        if self.is_empty():\r\n",
    "            return None\r\n",
    "        for current_node in self:\r\n",
    "            pass\r\n",
    "        return current_node\r\n",
    "\r\n",
    "    def is_empty(self):\r\n",
    "        return self.head is None"
   ],
   "outputs": [],
   "metadata": {}
  },
  {
   "cell_type": "code",
   "execution_count": 22,
   "source": [
    "my_stack = MyStack([1, 2, 3, 4, 5])\r\n",
    "print(my_stack)\r\n",
    "print(my_stack.is_empty())\r\n",
    "my_stack.push(6)\r\n",
    "print(my_stack)\r\n",
    "print(my_stack.pop())\r\n",
    "print(my_stack)\r\n",
    "print(my_stack.peek())\r\n",
    "print(my_stack)\r\n",
    "print(my_stack.pop())\r\n",
    "print(my_stack.pop())\r\n",
    "print(my_stack.pop())\r\n",
    "print(my_stack.pop())\r\n",
    "print(my_stack.pop())\r\n",
    "print(my_stack)\r\n",
    "print(my_stack.is_empty())"
   ],
   "outputs": [
    {
     "output_type": "stream",
     "name": "stdout",
     "text": [
      "1 2 3 4 5 <-- Last item\n",
      "False\n",
      "1 2 3 4 5 6 <-- Last item\n",
      "6\n",
      "1 2 3 4 5 <-- Last item\n",
      "5\n",
      "1 2 3 4 5 <-- Last item\n",
      "5\n",
      "4\n",
      "3\n",
      "2\n",
      "1\n",
      " <-- Last item\n",
      "True\n"
     ]
    }
   ],
   "metadata": {}
  },
  {
   "cell_type": "markdown",
   "source": [
    "## Queues\n",
    "\n",
    "Queues work in a FIFO (first in, first out) manner.\n",
    "\n",
    "![](images/queues.gif)\n",
    "\n"
   ],
   "metadata": {}
  },
  {
   "cell_type": "markdown",
   "source": [
    "Similar to stacks, queues can be implemented using lists, but they have even a lower efficiency than stacks implemented with lists (Can anybody tell me why?)\r\n",
    "\r\n",
    "It also has some operations common to many programming languages:\r\n",
    "\r\n",
    "1. add(item): Add and item at the beginning of the queue (right hand side of the queue)\r\n",
    "2. remove(): Remove the last item from the queue (left hand side of the queue)\r\n",
    "3. peek(): Return the top item of the queue without removing it\r\n",
    "4. isEmpty(): Return True if the queue is empty, False otherwise\r\n",
    "\r\n",
    "## Challenge: Implementing a Queue"
   ],
   "metadata": {}
  },
  {
   "cell_type": "code",
   "execution_count": 40,
   "source": [
    "class Node:\r\n",
    "    def __init__(self, data):\r\n",
    "        self.data = data\r\n",
    "        self.next = None\r\n",
    "    \r\n",
    "    def __repr__(self):\r\n",
    "        return str(self.data)\r\n",
    "\r\n",
    "class MyQueue:\r\n",
    "    def __init__(self, nodes: list = None):\r\n",
    "        self.front = None\r\n",
    "        self.rear = None # In a queue, you can have rear or front instead of head. Or both as shown in the gif above\r\n",
    "        if nodes is not None:\r\n",
    "            # pop(0) is the first element and assigns it to head\r\n",
    "            self.front = Node(data=nodes.pop(0))\r\n",
    "            node = self.front \r\n",
    "            # Iterate over the rest of the list\r\n",
    "            for elem in nodes:\r\n",
    "                node.next = Node(data=elem)\r\n",
    "                node = node.next\r\n",
    "  \r\n",
    "    def __repr__(self):\r\n",
    "        node = self.front\r\n",
    "        nodes = []\r\n",
    "        # Iterate over the list until we reach a None element\r\n",
    "        while node is not None:\r\n",
    "            # Cast it into a string so it can be represented\r\n",
    "            nodes.append(str(node.data))\r\n",
    "            node = node.next\r\n",
    "        return  \" Head/Front --> \" + \" \".join(nodes) + \" <-- Rear/Tail\"\r\n",
    "\r\n",
    "    def __iter__(self):\r\n",
    "        # iter makes this class iterable\r\n",
    "        node = self.front\r\n",
    "        while node is not None:\r\n",
    "            yield node\r\n",
    "            node = node.next\r\n",
    "\r\n",
    "    def add(self, node: int):\r\n",
    "        if self.front is None:\r\n",
    "            self.front = Node(node)\r\n",
    "            return\r\n",
    "\r\n",
    "        node_to_add = Node(data=node)\r\n",
    "        # Otherwise, add the node as the next of the current head\r\n",
    "        # So first we need to find the end of the list\r\n",
    "        last = self.front\r\n",
    "        while(last.next):\r\n",
    "            last = last.next\r\n",
    "        last.next = node_to_add\r\n",
    "        node_to_add.next = None\r\n",
    "\r\n",
    "    def remove(self):\r\n",
    "        if self.is_empty():\r\n",
    "            raise Exception(\"List is empty\")\r\n",
    "\r\n",
    "        # If the stack has only one node, return the head and\r\n",
    "        # the list will be empty\r\n",
    "        item_to_remove = self.front\r\n",
    "        self.front = item_to_remove.next\r\n",
    "        \r\n",
    "        return item_to_remove\r\n",
    "        # We need to find the penultimate node, so if the\r\n",
    "        # next of the next node is None, we have found it\r\n",
    "\r\n",
    "    def peek(self):\r\n",
    "        if self.is_empty():\r\n",
    "            return None\r\n",
    "        return self.front\r\n",
    "\r\n",
    "    def is_empty(self):\r\n",
    "        return self.front is None"
   ],
   "outputs": [],
   "metadata": {}
  },
  {
   "cell_type": "code",
   "execution_count": 44,
   "source": [
    "my_queue = MyQueue([1, 2, 3, 4, 5])\r\n",
    "print(my_queue)\r\n",
    "my_queue.add(0)\r\n",
    "print(my_queue)\r\n",
    "my_queue.remove()\r\n",
    "print(my_queue)\r\n",
    "my_queue.add(-1)\r\n",
    "print(my_queue)\r\n",
    "my_queue.add(10)\r\n",
    "print(my_queue)\r\n",
    "my_queue.remove()\r\n",
    "print(my_queue)"
   ],
   "outputs": [
    {
     "output_type": "stream",
     "name": "stdout",
     "text": [
      " Head/Front --> 1 2 3 4 5 <-- Rear/Tail\n",
      " Head/Front --> 1 2 3 4 5 0 <-- Rear/Tail\n",
      " Head/Front --> 2 3 4 5 0 <-- Rear/Tail\n",
      " Head/Front --> 2 3 4 5 0 -1 <-- Rear/Tail\n",
      " Head/Front --> 2 3 4 5 0 -1 10 <-- Rear/Tail\n",
      " Head/Front --> 3 4 5 0 -1 10 <-- Rear/Tail\n"
     ]
    }
   ],
   "metadata": {}
  },
  {
   "cell_type": "code",
   "execution_count": 15,
   "source": [
    "my_ls = [1, 2, 3]\r\n",
    "my_ls.insert(0, -1)\r\n",
    "print(my_ls)"
   ],
   "outputs": [
    {
     "output_type": "stream",
     "name": "stdout",
     "text": [
      "[-1, 1, 2, 3]\n"
     ]
    }
   ],
   "metadata": {}
  },
  {
   "cell_type": "code",
   "execution_count": 16,
   "source": [
    "my_queue[2]"
   ],
   "outputs": [
    {
     "output_type": "error",
     "ename": "TypeError",
     "evalue": "'MyQueue' object is not subscriptable",
     "traceback": [
      "\u001b[1;31m---------------------------------------------------------------------------\u001b[0m",
      "\u001b[1;31mTypeError\u001b[0m                                 Traceback (most recent call last)",
      "\u001b[1;32mC:\\Users\\BLAIR_~1\\AppData\\Local\\Temp/ipykernel_240/762739837.py\u001b[0m in \u001b[0;36m<module>\u001b[1;34m\u001b[0m\n\u001b[1;32m----> 1\u001b[1;33m \u001b[0mmy_queue\u001b[0m\u001b[1;33m[\u001b[0m\u001b[1;36m2\u001b[0m\u001b[1;33m]\u001b[0m\u001b[1;33m\u001b[0m\u001b[1;33m\u001b[0m\u001b[0m\n\u001b[0m",
      "\u001b[1;31mTypeError\u001b[0m: 'MyQueue' object is not subscriptable"
     ]
    }
   ],
   "metadata": {}
  },
  {
   "cell_type": "markdown",
   "source": [
    "## Deques (Double-ended Queues)"
   ],
   "metadata": {}
  },
  {
   "cell_type": "markdown",
   "source": [
    "You might remember deques from the previous lesson. They are a simple data structure that allow you to add and remove elements from both ends. So, it is actually something very similar to a combination of stacks and queues. However, this is only true considering the methods. You can access random elements in a deque\n",
    "\n",
    "![](images/deque.jpg)"
   ],
   "metadata": {}
  },
  {
   "cell_type": "code",
   "execution_count": 35,
   "source": [
    "from collections import deque\r\n",
    "my_deque = deque([1, 2, 3, 4, 5])\r\n",
    "my_deque[3]"
   ],
   "outputs": [
    {
     "output_type": "execute_result",
     "data": {
      "text/plain": [
       "4"
      ]
     },
     "metadata": {},
     "execution_count": 35
    }
   ],
   "metadata": {}
  },
  {
   "cell_type": "code",
   "execution_count": 36,
   "source": [
    "my_deque.append([1, 2, 3])\r\n",
    "print(my_deque)\r\n",
    "my_deque.extend([1, 2, 3])\r\n",
    "print(my_deque)"
   ],
   "outputs": [
    {
     "output_type": "stream",
     "name": "stdout",
     "text": [
      "deque([1, 2, 3, 4, 5, [1, 2, 3]])\n",
      "deque([1, 2, 3, 4, 5, [1, 2, 3], 1, 2, 3])\n"
     ]
    }
   ],
   "metadata": {}
  },
  {
   "cell_type": "markdown",
   "source": [
    "On the other hand, we might also use Doubly Linked Lists, whose elements are not randomly accessed, but they would have the same functionalities as the combination of both Stacks and Queues."
   ],
   "metadata": {}
  },
  {
   "cell_type": "markdown",
   "source": [
    "Why are we doing this then?\n",
    "\n",
    "1. Underlying data structure\n",
    "2. How to implement in case of being asked during an interview\n",
    "3. Getting the grasp of the concept and learning algorithmic thinking"
   ],
   "metadata": {}
  },
  {
   "cell_type": "markdown",
   "source": [
    "# Challenges (In class)\n",
    "\n",
    "## 1. Text Editor:\n",
    "In this challenge you are going to use stacks to implement a text editor. You are going to perform the following tasks:\n",
    "\n",
    "1 - Append(s): append a string s to the end of the file\n",
    "\n",
    "2 - delete(n): delete the last n characters from the string\n",
    "\n",
    "3 - print(n): print the last nth character from the string\n",
    "\n",
    "4 - undo(): undo the last operation corresponding to append or delete\n",
    "\n",
    "For example, the initial string is:\n",
    "`S = 'Hello World'`\n",
    "and operations are:\n",
    "operations = ['1 My name is Ivan', '3 10', '2 0', '4', '1 Ying', '3 15', '4']\n",
    "\n",
    "| operation         | String | What happens? |\n",
    "|--                 |--|--|\n",
    "| 1 My name is Ivan | Hello World | Append ' My name is Ivan' |\n",
    "| 3 10              | Hello World My name is Ivan | Prints out the tenth character |\n",
    "| 2 0               | Hello World My name is Ivan | Deletes the first character |\n",
    "| 4                 | ello World My name is Ivan| Undo the last delete operation |\n",
    "| 1 Ying | Hello World My name is Ivan| Append ' Ying' |\n",
    "| 3 15 | Hello World My name is Ivan Ying | Prints out the fifteenth character  |\n",
    "| 4 | Hello World My name is Ivan Ying | Undo the last append operation  |\n",
    "| | Hello World My name is Ivan| |\n",
    "\n"
   ],
   "metadata": {}
  },
  {
   "cell_type": "markdown",
   "source": [
    "## 2. Animal Shelter\n",
    "\n",
    "An animal shelter, which holds only dogs and cats, operates on a strictly FIFO basis. People must adopt either the oldest (based on arrival time) of all animals at the shelter, or they can select whether they would prefer a dog or a cat (and will receive the oldest animal of that type). Create the data structures to maintain this system and implement operations such as enqueue(add in queues), dequeueAny (remove in queues), dequeueDog, and dequeueCat. You may use the built-in LinkedList data structure.\n",
    "\n",
    "_Try to make it with and without using Queues_"
   ],
   "metadata": {}
  },
  {
   "cell_type": "markdown",
   "source": [
    "# Assessments\n",
    "\n",
    "1. How stacks are related to multithreaded programs?\n",
    "2. Look information about the LifoQueue class.\n"
   ],
   "metadata": {}
  },
  {
   "cell_type": "markdown",
   "source": [],
   "metadata": {}
  }
 ],
 "metadata": {
  "interpreter": {
   "hash": "14fed20d815d8426698b9e4db4c2894958f6485d6746a1ea976e58ce3ec76c9f"
  },
  "kernelspec": {
   "name": "python3",
   "display_name": "Python 3.9.6 64-bit ('AiCoreTeach': conda)"
  },
  "language_info": {
   "codemirror_mode": {
    "name": "ipython",
    "version": 3
   },
   "file_extension": ".py",
   "mimetype": "text/x-python",
   "name": "python",
   "nbconvert_exporter": "python",
   "pygments_lexer": "ipython3",
   "version": "3.9.6"
  },
  "orig_nbformat": 4
 },
 "nbformat": 4,
 "nbformat_minor": 2
}