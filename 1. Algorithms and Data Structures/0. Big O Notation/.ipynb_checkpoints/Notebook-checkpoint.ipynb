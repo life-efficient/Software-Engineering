{
 "cells": [
  {
   "cell_type": "markdown",
   "metadata": {},
   "source": [
    "# 1. Big O Notation"
   ]
  },
  {
   "cell_type": "markdown",
   "metadata": {},
   "source": [
    "Software Engineers will spend a significant amount of his time improving the efficiency of the code: __a faster algorithm__ and with small space complexity.\n",
    "\n",
    "The search of this efficiency lead to the development of different methods and normalize that method to analyze every algorithm under the same conditions. \n",
    "\n",
    "This efficiency measurement is known as asymptotic analysis, and it will tell us the computational cost (or complexity) of an algorithm as a function of different parameters, for example its input size.\n"
   ]
  },
  {
   "cell_type": "markdown",
   "metadata": {},
   "source": [
    "# Time Complexity\n",
    "\n",
    "Imagine a simple for loop that iterates through n elements:\n",
    "`for i in range(n)`\n"
   ]
  },
  {
   "cell_type": "markdown",
   "metadata": {},
   "source": [
    "\n",
    "\n",
    "![](images/BigO_1.gif)\n",
    "\n",
    "Now, imagine a nested for loop:\n",
    "```\n",
    "for i in range(n):\n",
    "    for j in range(n):\n",
    "```\n",
    "\n",
    "![](images/BigO_2.gif)\n",
    "\n"
   ]
  },
  {
   "cell_type": "markdown",
   "metadata": {},
   "source": [
    "The first graph means that the amount of time the code takes to run increases proportional to the number of inputs\n",
    "\n",
    "Second second graph means that the amount of time the code takes to run increases proportional to the square of the number of inputs.\n",
    "\n",
    "There is a shorthand to write this: Big O notation, which represents the time complexity in the worst case scenario. \n",
    "\n",
    "It looks like this: `O(n^2)`, where n is the number of inputs, and n^2 is the time complexity. Thus for the first case we have `O(n)` and for the second case `O(n^2)`"
   ]
  },
  {
   "cell_type": "markdown",
   "metadata": {},
   "source": [
    "Worst case scenario? What is the WCS for a for loop? Imagine we are looking for a specific number in the list. The WCS would be finding it at the end of it.\n",
    "\n",
    "_Same way we have big O, we also have big Ω for Best Case Scenario, and big θ for a combination of both. However we will focus solely on the big O_"
   ]
  },
  {
   "cell_type": "markdown",
   "metadata": {},
   "source": [
    "Now that you know how complexity increases in nested loops, you might think twice before using one!"
   ]
  },
  {
   "cell_type": "markdown",
   "metadata": {},
   "source": [
    "### Question: \n",
    "\n",
    "What is the big O of the following codes?\n",
    "```\n",
    "for x in range(n):\n",
    "    do something\n",
    "for y in range(m):\n",
    "    do something\n",
    "```\n",
    "O(n + m)"
   ]
  },
  {
   "cell_type": "markdown",
   "metadata": {},
   "source": [
    "```\n",
    "for x in range(n):\n",
    "    do something\n",
    "    for y in range(n):\n",
    "        do something\n",
    "```\n",
    "O(n^2)"
   ]
  },
  {
   "cell_type": "markdown",
   "metadata": {},
   "source": [
    "As a rule of thumb:\n",
    "> If your algorithm is in the form 'Do this, then do that' you add the complexities\n",
    "> \n",
    "> If your algorithm is in the form 'Do this every time you do that' you multiply the complexities"
   ]
  },
  {
   "cell_type": "markdown",
   "metadata": {},
   "source": [
    "Also, big O notation measures the times your input will be processed (in the worst-case scenario). So if you see for example\n",
    "```\n",
    "for x in range(len(n)):\n",
    "    y = 3 * x\n",
    "```\n",
    "The time complexity is not O(3n), it is still O(n)"
   ]
  },
  {
   "cell_type": "markdown",
   "metadata": {},
   "source": [
    "### Example: Fibonacci big O\n",
    "Let's see an classical example: Recursive Fibonacci vs Loop Fibonacci "
   ]
  },
  {
   "cell_type": "code",
   "execution_count": 5,
   "metadata": {},
   "outputs": [],
   "source": [
    "def recur_fibo(n):\n",
    "    if n <= 1:\n",
    "        return n\n",
    "    else:\n",
    "        return(recur_fibo(n-1) + recur_fibo(n-2))\n",
    "\n",
    "\n",
    "# check if the number of terms is valid\n",
    "def while_fib(n):\n",
    "    n1, n2 = 0, 1\n",
    "    count = 0\n",
    "    while count < n - 1:\n",
    "        nth = n1 + n2\n",
    "        # update values\n",
    "        n1 = n2\n",
    "        n2 = nth\n",
    "        count += 1\n",
    "    return nth"
   ]
  },
  {
   "cell_type": "markdown",
   "metadata": {},
   "source": [
    "Let's time each function"
   ]
  },
  {
   "cell_type": "code",
   "execution_count": 6,
   "metadata": {},
   "outputs": [
    {
     "name": "stdout",
     "output_type": "stream",
     "text": [
      "9227465\n",
      "Recursive Fib took 13.237856149673462 s\n",
      "9227465\n",
      "While Fib took 0.00017189979553222656 s\n"
     ]
    }
   ],
   "source": [
    "import time\n",
    "n = 35\n",
    "t_0 = time.time()\n",
    "print(recur_fibo(n))\n",
    "print(f'Recursive Fib took {time.time() - t_0} s')\n",
    "\n",
    "\n",
    "t_0 = time.time()\n",
    "print(while_fib(n))\n",
    "print(f'While Fib took {time.time() - t_0} s')"
   ]
  },
  {
   "cell_type": "markdown",
   "metadata": {},
   "source": [
    "Extra points to anyone who can tell me the big O of each algorithm. You can google it!"
   ]
  },
  {
   "cell_type": "markdown",
   "metadata": {},
   "source": [
    "### Time Complexity of Data Types"
   ]
  },
  {
   "cell_type": "markdown",
   "metadata": {},
   "source": [
    "# Space Complexity\n",
    "\n",
    "We just talked about time complexity, but we should also consider space complexity. It can also be measured using the big O, and in essence measures the amount of memory allocated to run your program"
   ]
  },
  {
   "cell_type": "markdown",
   "metadata": {},
   "source": [
    "Thus, O(n) means that for each input processed, you will add one variable per processed input."
   ]
  },
  {
   "cell_type": "markdown",
   "metadata": {},
   "source": [
    "Iterating through lists, dictionaries, sets or tuples usually has a linear Big O (`O(n)`) in terms of time complexity. But fetching specific items is speedy in dictionaries and sets."
   ]
  },
  {
   "cell_type": "code",
   "execution_count": 18,
   "metadata": {},
   "outputs": [],
   "source": [
    "my_dict = {'One': 1, 'Two': 2, 'Three': 3, 'Four': 4}\n",
    "my_list = ['One', 'Two', 'Three', 'Four']"
   ]
  },
  {
   "cell_type": "markdown",
   "metadata": {},
   "source": [
    "In this case, we might not see a difference when checking if 'Three' exists for example, but for huge data inputs, dictionaries are much faster."
   ]
  },
  {
   "cell_type": "markdown",
   "metadata": {},
   "source": [
    "### Generators - A solution for Space complexity"
   ]
  },
  {
   "cell_type": "markdown",
   "metadata": {},
   "source": [
    "Storing all information in a list will take `O(n)` in terms of space complexity. Thus, huge datasets takes huge data complexity. \n",
    "\n",
    "Instead, try using generators, since they take a `O(1)` (as long as we don't append its values in another list)"
   ]
  },
  {
   "cell_type": "code",
   "execution_count": 7,
   "metadata": {},
   "outputs": [],
   "source": [
    "from sys import getsizeof\n",
    "\n",
    "def my_gen(n):\n",
    "    for i in range(n):\n",
    "        yield i\n",
    "\n",
    "y = my_gen(20)\n",
    "s = next(y)"
   ]
  },
  {
   "cell_type": "code",
   "execution_count": 8,
   "metadata": {},
   "outputs": [
    {
     "name": "stdout",
     "output_type": "stream",
     "text": [
      "0\n"
     ]
    }
   ],
   "source": [
    "print(s)"
   ]
  },
  {
   "cell_type": "code",
   "execution_count": 13,
   "metadata": {},
   "outputs": [
    {
     "data": {
      "text/plain": [
       "4"
      ]
     },
     "execution_count": 13,
     "metadata": {},
     "output_type": "execute_result"
    }
   ],
   "source": [
    "next(y)"
   ]
  },
  {
   "cell_type": "code",
   "execution_count": 15,
   "metadata": {},
   "outputs": [
    {
     "name": "stdout",
     "output_type": "stream",
     "text": [
      "112\n"
     ]
    }
   ],
   "source": [
    "print(getsizeof(y))"
   ]
  },
  {
   "cell_type": "markdown",
   "metadata": {},
   "source": [
    "Observe that we only have one variable for iterating through 20 items"
   ]
  },
  {
   "cell_type": "code",
   "execution_count": 16,
   "metadata": {},
   "outputs": [],
   "source": [
    "my_list = [0, 1, 2, 3, 4, 5, 6, 7, 8, 9, 10, 11, 12, 13, 14, 15, 16, 17, 18, 19]"
   ]
  },
  {
   "cell_type": "code",
   "execution_count": 17,
   "metadata": {},
   "outputs": [
    {
     "name": "stdout",
     "output_type": "stream",
     "text": [
      "248\n"
     ]
    }
   ],
   "source": [
    "print(getsizeof(my_list))"
   ]
  },
  {
   "cell_type": "markdown",
   "metadata": {},
   "source": [
    "Iterating through `my_list` will take the same time complexity, but we need a list with 20 memory allocations."
   ]
  },
  {
   "cell_type": "markdown",
   "metadata": {},
   "source": [
    "## More Big O possibilites"
   ]
  },
  {
   "cell_type": "markdown",
   "metadata": {},
   "source": [
    "Big O can show many complexities, and as we progress in this Unit, we will see more them.\n",
    "\n",
    "![](images/BigO_3.jpg)"
   ]
  },
  {
   "cell_type": "markdown",
   "metadata": {},
   "source": [
    "![](images/BigO_4.png)"
   ]
  },
  {
   "cell_type": "markdown",
   "metadata": {},
   "source": [
    "Observe the above graph, it looks like if the input size is low, some algorithms are better. For example, O(n^2) looks better than O(n) at the beggining. But don't get fooled! That is only true if the input size is less than 1! In other cases, the input size doesn't have to be greater than 1 for that to be true, it will also depend on the operation.\n",
    "\n",
    "> ## Complexity will differ from algorithm to algorithm, you should only compare complexities when they are used for the same purpose"
   ]
  },
  {
   "cell_type": "markdown",
   "metadata": {},
   "source": [
    "When we talk about same purpose, we might refer to sort a list, or to find an element in a list. During this unit, you will learn about the following algorithms:\n",
    " 1. Sorting\n",
    " 2. Searching\n",
    " 3. Recursion\n",
    " 4. Memoization and Dynamic Programming\n",
    "\n",
    "We will also see alternatives to the data structures we have seen so far:\n",
    "\n",
    " 1. Linked List\n",
    " 2. Stack and Queue\n",
    " 3. Binary Trees \n",
    " 4. Binary Search Tree\n",
    " 5. Graphs\n"
   ]
  },
  {
   "cell_type": "markdown",
   "metadata": {},
   "source": [
    "# Structures for improving Complexity"
   ]
  },
  {
   "cell_type": "markdown",
   "metadata": {},
   "source": [
    "Before we move on, it is worth mentioning that there are many data structures in Python that can save a lot of time and space. Many of these structures are in the library named `collections`. Let's see an example, the `defaultdict`, and for doing so, let's see an example that you probably have come across many times: try to get the most frequent element in a list or in another structure."
   ]
  },
  {
   "cell_type": "code",
   "execution_count": null,
   "metadata": {},
   "outputs": [],
   "source": [
    "def get_number_with_highest_count(counts: dict) -> int:\n",
    "    max_count = 0\n",
    "    for number, count in counts.items():\n",
    "        if count > max_count:\n",
    "            max_count = count\n",
    "            number_with_highest_count = number\n",
    "    return number_with_highest_count\n",
    "\n",
    "\n",
    "def most_frequent(numbers: list) -> int:\n",
    "    counts = {}\n",
    "    for number in numbers:\n",
    "        if number in counts:\n",
    "            counts[number] += 1\n",
    "        else:\n",
    "            counts[number] = 1\n",
    "\n",
    "    return get_number_with_highest_count(counts)"
   ]
  },
  {
   "cell_type": "markdown",
   "metadata": {},
   "source": [
    "This solution works, but we can keep the code more concise using `defaultdict`, which will save you the work of checking if an element is already in the dictionary."
   ]
  },
  {
   "cell_type": "code",
   "execution_count": 1,
   "metadata": {},
   "outputs": [],
   "source": [
    "from collections import defaultdict\n",
    "\n",
    "\n",
    "def get_number_with_highest_count(counts: dict) -> int:\n",
    "    max_count = 0\n",
    "    for number, count in counts.items():\n",
    "        if count > max_count:\n",
    "            max_count = count\n",
    "            number_with_highest_count = number\n",
    "    return number_with_highest_count\n",
    "\n",
    "\n",
    "def most_frequent(numbers: list) -> int:\n",
    "    counts = defaultdict(int) # <-- If the key doesn't exist, defaultdict will create a new key whose value is an integera\n",
    "    for number in numbers:\n",
    "        counts[number] += 1\n",
    "\n",
    "    return get_number_with_highest_count(counts)"
   ]
  },
  {
   "cell_type": "markdown",
   "metadata": {},
   "source": [
    "This code is more concise, but we can even improve it more. The same `collections` library has a class named `Counter`, which, as the name suggests, counts the number of times an element appears:"
   ]
  },
  {
   "cell_type": "code",
   "execution_count": 18,
   "metadata": {},
   "outputs": [
    {
     "name": "stdout",
     "output_type": "stream",
     "text": [
      "Counter({1: 5, 8: 2, 2: 1, 3: 1, 4: 1, 5: 1, 6: 1, 9: 1, 11: 1, 14: 1, 15: 1, 16: 1, 17: 1, 18: 1, 19: 1})\n"
     ]
    }
   ],
   "source": [
    "from collections import Counter\n",
    "\n",
    "my_list = [1, 1, 2, 3, 4, 5, 6, 8, 8, 9, 1, 11, 1, 1, 14, 15, 16, 17, 18, 19]\n",
    "\n",
    "counts = Counter(my_list)\n",
    "print(counts)"
   ]
  },
  {
   "cell_type": "code",
   "execution_count": 19,
   "metadata": {},
   "outputs": [],
   "source": [
    "from collections import Counter\n",
    "\n",
    "\n",
    "def get_number_with_highest_count(counts):\n",
    "    max_count = 0\n",
    "    for number, count in counts.items():\n",
    "        if count > max_count:\n",
    "            max_count = count\n",
    "            number_with_highest_count = number\n",
    "    return number_with_highest_count\n",
    "\n",
    "\n",
    "def most_frequent(numbers):\n",
    "    counts = Counter(numbers)\n",
    "    return get_number_with_highest_count(counts)"
   ]
  },
  {
   "cell_type": "code",
   "execution_count": 20,
   "metadata": {},
   "outputs": [
    {
     "data": {
      "text/plain": [
       "1"
      ]
     },
     "execution_count": 20,
     "metadata": {},
     "output_type": "execute_result"
    }
   ],
   "source": [
    "get_number_with_highest_count(counts)"
   ]
  },
  {
   "cell_type": "markdown",
   "metadata": {},
   "source": [
    "It looks like our code can't improve further... But wait, there is more. What about the `get_number_with_highers_count` function? We could simply use the `max` function that is built in Python by default. The problem is that by default, applying `max` to a dictionary will return the maximum of the values of its keys. If you try to apply it to the values, yes, you will get the maximum value amongst the values, but you won't know to which key it would correspond. \n",
    "\n",
    "We can apply lambda functions for this. Remember that many functions, such as sort, filter, map... accepts a key that will define the rules to compare the values to find the max value from"
   ]
  },
  {
   "cell_type": "code",
   "execution_count": 22,
   "metadata": {},
   "outputs": [
    {
     "data": {
      "text/plain": [
       "5"
      ]
     },
     "execution_count": 22,
     "metadata": {},
     "output_type": "execute_result"
    }
   ],
   "source": [
    "max(counts.values())"
   ]
  },
  {
   "cell_type": "code",
   "execution_count": 35,
   "metadata": {},
   "outputs": [],
   "source": [
    "from collections import Counter\n",
    "\n",
    "\n",
    "def get_number_with_highest_count(counts):\n",
    "    '''\n",
    "    Get a dict and return the key whose value is the highest\n",
    "    '''\n",
    "    return max(\n",
    "        counts,\n",
    "        key=lambda number: counts[number] # maximize by value\n",
    "    )\n",
    "\n",
    "# SDFIHF\n",
    "def most_frequent(numbers):\n",
    "    # SDFGJHDSFK\n",
    "    counts = Counter(numbers)\n",
    "    # DSFHDKSJF\n",
    "    return get_number_with_highest_count(counts)"
   ]
  },
  {
   "cell_type": "code",
   "execution_count": 36,
   "metadata": {},
   "outputs": [
    {
     "name": "stdout",
     "output_type": "stream",
     "text": [
      "Help on function get_number_with_highest_count in module __main__:\n",
      "\n",
      "get_number_with_highest_count(counts)\n",
      "    get a dict and return the key whose value is the highest\n",
      "\n"
     ]
    }
   ],
   "source": [
    "help(get_number_with_highest_count)"
   ]
  },
  {
   "cell_type": "code",
   "execution_count": 24,
   "metadata": {},
   "outputs": [
    {
     "data": {
      "text/plain": [
       "1"
      ]
     },
     "execution_count": 24,
     "metadata": {},
     "output_type": "execute_result"
    }
   ],
   "source": [
    "max(counts, key=lambda number: counts[number])"
   ]
  },
  {
   "cell_type": "markdown",
   "metadata": {},
   "source": [
    "These examples were just that: examples. You have to bear in mind that these techniques don't come easily to you, but by practicing, you will develop a sense of detecting when your code can be improved. Additionally, we used two new classes we haven't seen before, and it's natural you didn't know them, no one expects you to know all Python libraries, the imporant thing is that you are not likely the first one to find a particular error, and the solution is out there, waiting for you to find it!"
   ]
  },
  {
   "cell_type": "markdown",
   "metadata": {},
   "source": [
    "# Tools for measuring Complexity"
   ]
  },
  {
   "cell_type": "markdown",
   "metadata": {},
   "source": [
    "We saw that we need to improve time complexity and space complexity. But how do we know we are going in the right direction? Luckily, Python offers ways to measure both of them."
   ]
  },
  {
   "cell_type": "markdown",
   "metadata": {},
   "source": [
    "## timeit"
   ]
  },
  {
   "cell_type": "markdown",
   "metadata": {},
   "source": [
    "`timeit` is a module that can be used in the CLI or in your code"
   ]
  },
  {
   "cell_type": "markdown",
   "metadata": {},
   "source": [
    "In the command line, it would look like:"
   ]
  },
  {
   "cell_type": "code",
   "execution_count": 29,
   "metadata": {},
   "outputs": [
    {
     "name": "stdout",
     "output_type": "stream",
     "text": [
      "5000 loops, best of 5: 39.4 usec per loop\n"
     ]
    }
   ],
   "source": [
    "%%bash\n",
    "python -m timeit \"total=sum(range(1000))\""
   ]
  },
  {
   "cell_type": "markdown",
   "metadata": {},
   "source": [
    "In your code it would look like:"
   ]
  },
  {
   "cell_type": "code",
   "execution_count": 31,
   "metadata": {},
   "outputs": [
    {
     "name": "stdout",
     "output_type": "stream",
     "text": [
      "0.00012151677879992348\n"
     ]
    }
   ],
   "source": [
    "from timeit import timeit\n",
    "\n",
    "result = timeit(stmt='total=sum(range(1000))', number=5000)\n",
    "print(result/5000)"
   ]
  },
  {
   "cell_type": "markdown",
   "metadata": {},
   "source": [
    "You can use this tool to check how long it takes for snippets of your code to run"
   ]
  },
  {
   "cell_type": "markdown",
   "metadata": {},
   "source": [
    "## CPU profiling"
   ]
  },
  {
   "cell_type": "markdown",
   "metadata": {},
   "source": [
    "You can check more metrics from your code such as how many times each piece of code was ran, how much time it spent on each part, and how long it took for each call:"
   ]
  },
  {
   "cell_type": "code",
   "execution_count": 34,
   "metadata": {},
   "outputs": [
    {
     "name": "stdout",
     "output_type": "stream",
     "text": [
      "         4823 function calls (4796 primitive calls) in 6.342 seconds\n",
      "\n",
      "   Ordered by: internal time\n",
      "\n",
      "   ncalls  tottime  percall  cumtime  percall filename:lineno(function)\n",
      "     1000    6.290    0.006    6.290    0.006 {built-in method time.sleep}\n",
      "     1000    0.025    0.000    6.318    0.006 cpu.py:4(dummy)\n",
      "        1    0.015    0.015    6.342    6.342 cpu.py:1(<module>)\n",
      "        4    0.003    0.001    0.003    0.001 {built-in method _imp.create_dynamic}\n",
      "     1000    0.003    0.000    0.003    0.000 {method 'random' of '_random.Random' objects}\n",
      "       44    0.001    0.000    0.001    0.000 {built-in method posix.stat}\n",
      "      156    0.001    0.000    0.001    0.000 <frozen importlib._bootstrap_external>:62(_path_join)\n",
      "       34    0.000    0.000    0.003    0.000 <frozen importlib._bootstrap_external>:1438(find_spec)\n",
      "        2    0.000    0.000    0.000    0.000 {built-in method marshal.loads}\n",
      "        2    0.000    0.000    0.000    0.000 {built-in method io.open_code}\n",
      "      156    0.000    0.000    0.000    0.000 <frozen importlib._bootstrap_external>:64(<listcomp>)\n",
      "        1    0.000    0.000    0.006    0.006 random.py:1(<module>)\n",
      "        6    0.000    0.000    0.003    0.000 <frozen importlib._bootstrap_external>:1309(_get_spec)\n",
      "        1    0.000    0.000    0.000    0.000 {function Random.seed at 0x7fcc974a00d0}\n",
      "        1    0.000    0.000    0.000    0.000 {built-in method posix.listdir}\n",
      "        2    0.000    0.000    0.000    0.000 {built-in method builtins.__build_class__}\n",
      "        6    0.000    0.000    0.000    0.000 <frozen importlib._bootstrap>:166(_get_module_lock)\n",
      "        6    0.000    0.000    0.003    0.001 <frozen importlib._bootstrap>:901(_find_spec)\n",
      "      6/1    0.000    0.000    0.009    0.009 <frozen importlib._bootstrap>:1002(_find_and_load)\n",
      "      170    0.000    0.000    0.000    0.000 <frozen importlib._bootstrap>:231(_verbose_message)\n",
      "        6    0.000    0.000    0.000    0.000 <frozen importlib._bootstrap>:486(_init_module_attrs)\n",
      "        6    0.000    0.000    0.000    0.000 <frozen importlib._bootstrap_external>:51(_unpack_uint32)\n",
      "      316    0.000    0.000    0.000    0.000 {method 'rstrip' of 'str' objects}\n",
      "       36    0.000    0.000    0.000    0.000 {built-in method builtins.getattr}\n",
      "        2    0.000    0.000    0.000    0.000 {method 'read' of '_io.BufferedReader' objects}\n",
      "      160    0.000    0.000    0.000    0.000 {method 'join' of 'str' objects}\n",
      "      6/1    0.000    0.000    0.007    0.007 <frozen importlib._bootstrap>:659(_load_unlocked)\n",
      "       40    0.000    0.000    0.000    0.000 <frozen importlib._bootstrap_external>:1272(_path_importer_cache)\n",
      "        2    0.000    0.000    0.001    0.001 <frozen importlib._bootstrap_external>:856(get_code)\n",
      "       44    0.000    0.000    0.001    0.000 <frozen importlib._bootstrap_external>:80(_path_stat)\n",
      "        6    0.000    0.000    0.000    0.000 <frozen importlib._bootstrap>:112(release)\n",
      "       34    0.000    0.000    0.000    0.000 <frozen importlib._bootstrap_external>:36(_relax_case)\n",
      "        6    0.000    0.000    0.000    0.000 <frozen importlib._bootstrap_external>:636(spec_from_file_location)\n",
      "        4    0.000    0.000    0.003    0.001 <frozen importlib._bootstrap_external>:1106(create_module)\n",
      "        6    0.000    0.000    0.000    0.000 <frozen importlib._bootstrap>:87(acquire)\n",
      "        1    0.000    0.000    0.000    0.000 random.py:125(seed)\n",
      "      3/1    0.000    0.000    6.342    6.342 {built-in method builtins.exec}\n",
      "        2    0.000    0.000    0.000    0.000 {method '__exit__' of '_io._IOBase' objects}\n",
      "      6/1    0.000    0.000    0.008    0.008 <frozen importlib._bootstrap>:967(_find_and_load_unlocked)\n",
      "        4    0.000    0.000    0.000    0.000 <frozen importlib._bootstrap_external>:301(cache_from_source)\n",
      "        6    0.000    0.000    0.003    0.001 <frozen importlib._bootstrap>:558(module_from_spec)\n",
      "     10/1    0.000    0.000    0.006    0.006 <frozen importlib._bootstrap>:220(_call_with_frames_removed)\n",
      "       47    0.000    0.000    0.000    0.000 {built-in method builtins.hasattr}\n",
      "        6    0.000    0.000    0.000    0.000 <frozen importlib._bootstrap_external>:431(_get_cached)\n",
      "        2    0.000    0.000    0.000    0.000 <frozen importlib._bootstrap_external>:976(get_data)\n",
      "        1    0.000    0.000    0.001    0.001 bisect.py:1(<module>)\n",
      "        6    0.000    0.000    0.000    0.000 <frozen importlib._bootstrap_external>:1433(_get_spec)\n",
      "        6    0.000    0.000    0.000    0.000 <frozen importlib._bootstrap>:185(cb)\n",
      "       54    0.000    0.000    0.000    0.000 {method 'rpartition' of 'str' objects}\n",
      "        6    0.000    0.000    0.000    0.000 <frozen importlib._bootstrap>:58(__init__)\n",
      "        8    0.000    0.000    0.000    0.000 <frozen importlib._bootstrap>:385(cached)\n",
      "        1    0.000    0.000    0.000    0.000 random.py:100(Random)\n",
      "        2    0.000    0.000    0.000    0.000 <frozen importlib._bootstrap_external>:585(_compile_bytecode)\n",
      "       47    0.000    0.000    0.000    0.000 {built-in method builtins.isinstance}\n",
      "        6    0.000    0.000    0.003    0.000 <frozen importlib._bootstrap_external>:1341(find_spec)\n",
      "        1    0.000    0.000    0.000    0.000 <frozen importlib._bootstrap_external>:1486(_fill_cache)\n",
      "        6    0.000    0.000    0.000    0.000 <frozen importlib._bootstrap>:156(__enter__)\n",
      "        7    0.000    0.000    0.000    0.000 <frozen importlib._bootstrap_external>:90(_path_is_mode_type)\n",
      "      2/1    0.000    0.000    0.007    0.007 <frozen importlib._bootstrap_external>:784(exec_module)\n",
      "        4    0.000    0.000    0.000    0.000 <frozen importlib._bootstrap_external>:1114(exec_module)\n",
      "       10    0.000    0.000    0.000    0.000 {method 'endswith' of 'str' objects}\n",
      "        1    0.000    0.000    0.000    0.000 {built-in method math.exp}\n",
      "        1    0.000    0.000    0.000    0.000 {built-in method posix.register_at_fork}\n",
      "       18    0.000    0.000    0.000    0.000 <frozen importlib._bootstrap>:878(__exit__)\n",
      "        6    0.000    0.000    0.000    0.000 <frozen importlib._bootstrap>:160(__exit__)\n",
      "        1    0.000    0.000    0.000    0.000 <frozen importlib._bootstrap_external>:1401(__init__)\n",
      "        6    0.000    0.000    0.000    0.000 {built-in method _imp.is_builtin}\n",
      "        2    0.000    0.000    0.000    0.000 <frozen importlib._bootstrap_external>:500(_classify_pyc)\n",
      "        6    0.000    0.000    0.000    0.000 <frozen importlib._bootstrap>:398(parent)\n",
      "       30    0.000    0.000    0.000    0.000 {built-in method _imp.release_lock}\n",
      "       12    0.000    0.000    0.000    0.000 {built-in method _thread.allocate_lock}\n",
      "       18    0.000    0.000    0.000    0.000 <frozen importlib._bootstrap>:874(__enter__)\n",
      "       30    0.000    0.000    0.000    0.000 {built-in method _imp.acquire_lock}\n",
      "        1    0.000    0.000    0.000    0.000 <frozen importlib._bootstrap_external>:1259(_path_hooks)\n",
      "        1    0.000    0.000    0.000    0.000 <frozen zipimport>:63(__init__)\n",
      "        4    0.000    0.000    0.000    0.000 {built-in method _imp.exec_dynamic}\n",
      "        6    0.000    0.000    0.000    0.000 <frozen importlib._bootstrap>:351(__init__)\n",
      "        1    0.000    0.000    0.000    0.000 random.py:770(SystemRandom)\n",
      "        6    0.000    0.000    0.000    0.000 <frozen importlib._bootstrap_external>:99(_path_isfile)\n",
      "        2    0.000    0.000    0.000    0.000 <frozen importlib._bootstrap_external>:463(_check_name_wrapper)\n",
      "        6    0.000    0.000    0.000    0.000 <frozen importlib._bootstrap>:736(find_spec)\n",
      "        4    0.000    0.000    0.000    0.000 <frozen importlib._bootstrap_external>:68(_path_split)\n",
      "        1    0.000    0.000    0.000    0.000 random.py:116(__init__)\n",
      "        6    0.000    0.000    0.000    0.000 <frozen importlib._bootstrap>:811(find_spec)\n",
      "       12    0.000    0.000    0.000    0.000 {built-in method _thread.get_ident}\n",
      "        1    0.000    0.000    0.000    0.000 {built-in method math.sqrt}\n",
      "        2    0.000    0.000    0.000    0.000 <frozen importlib._bootstrap_external>:533(_validate_timestamp_pyc)\n",
      "       12    0.000    0.000    0.000    0.000 {method '__exit__' of '_thread.lock' objects}\n",
      "        1    0.000    0.000    0.000    0.000 random.py:217(__init_subclass__)\n",
      "        3    0.000    0.000    0.000    0.000 {method 'extend' of 'list' objects}\n",
      "        4    0.000    0.000    0.000    0.000 <frozen importlib._bootstrap_external>:1095(__init__)\n",
      "        2    0.000    0.000    0.000    0.000 {built-in method math.log}\n",
      "        6    0.000    0.000    0.000    0.000 <frozen importlib._bootstrap>:152(__init__)\n",
      "        1    0.000    0.000    0.000    0.000 <frozen importlib._bootstrap_external>:1527(path_hook_for_FileFinder)\n",
      "       12    0.000    0.000    0.000    0.000 {method 'get' of 'dict' objects}\n",
      "        2    0.000    0.000    0.000    0.000 {built-in method _imp._fix_co_filename}\n",
      "        2    0.000    0.000    0.000    0.000 <frozen importlib._bootstrap_external>:1017(path_stats)\n",
      "       12    0.000    0.000    0.000    0.000 {built-in method builtins.len}\n",
      "        6    0.000    0.000    0.000    0.000 {built-in method from_bytes}\n",
      "        2    0.000    0.000    0.000    0.000 <frozen importlib._bootstrap>:35(_new_module)\n",
      "       10    0.000    0.000    0.000    0.000 {built-in method posix.fspath}\n",
      "        1    0.000    0.000    0.000    0.000 <frozen importlib._bootstrap_external>:1515(<setcomp>)\n",
      "        6    0.000    0.000    0.000    0.000 {method 'pop' of 'dict' objects}\n",
      "        6    0.000    0.000    0.000    0.000 {built-in method _imp.is_frozen}\n",
      "        8    0.000    0.000    0.000    0.000 <frozen importlib._bootstrap_external>:1407(<genexpr>)\n",
      "        2    0.000    0.000    0.000    0.000 <frozen importlib._bootstrap_external>:946(__init__)\n",
      "        2    0.000    0.000    0.000    0.000 {method 'startswith' of 'str' objects}\n",
      "        6    0.000    0.000    0.000    0.000 <frozen importlib._bootstrap>:406(has_location)\n",
      "        1    0.000    0.000    0.000    0.000 <frozen importlib._bootstrap_external>:104(_path_isdir)\n",
      "        1    0.000    0.000    0.000    0.000 {method 'disable' of '_lsprof.Profiler' objects}\n",
      "        2    0.000    0.000    0.000    0.000 <frozen importlib._bootstrap_external>:971(get_filename)\n",
      "        2    0.000    0.000    0.000    0.000 <frozen importlib._bootstrap_external>:781(create_module)\n",
      "        1    0.000    0.000    0.000    0.000 {method 'lower' of 'str' objects}\n",
      "\n",
      "\n"
     ]
    }
   ],
   "source": [
    "%%bash\n",
    "python -m cProfile --sort tottime examples/cpu.py"
   ]
  },
  {
   "cell_type": "markdown",
   "metadata": {},
   "source": [
    "Yoy can see what is going on from start to end, all imports, all calls...\n",
    "\n",
    "This will help you identifying where your code presents a bottleneck: which part slows down the whole algorithm, and try to come up with a better algorithm"
   ]
  },
  {
   "cell_type": "markdown",
   "metadata": {},
   "source": [
    "# Summary\n",
    "\n",
    "- Performance is a critical element to consider when developing your project\n",
    "- Designing will be an iterative process where you will improve small parts of your code, review, and redesign\n",
    "- Different data types have different complexities\n",
    "- Big O notation will help you see these key elements\n",
    "- You can, and should, use solutions that are already available. No need to reinvent the wheel! Check collections, itertools, and functools.\n",
    "- Python offers tools for measuring complexities. Make the most out of them"
   ]
  },
  {
   "cell_type": "markdown",
   "metadata": {},
   "source": [
    "# Challenges"
   ]
  },
  {
   "cell_type": "markdown",
   "metadata": {},
   "source": [
    "Look information about the next topics:"
   ]
  },
  {
   "cell_type": "markdown",
   "metadata": {},
   "source": [
    "### Q1. Look information about default dictionaries in python. What is its average time complexity?\n",
    "### Q1.2 Get familiar with defaultdict! We will be using it during the course: [DefaultDict](https://realpython.com/python-defaultdict/)\n",
    "### Q2. Look infomation about Counter in python. What is the time complexity for creating it?\n",
    "### Q3. What does small o mean?\n",
    "### Q4. What does small ω mean?\n",
    "### Q5. How would you process a text file so the __space__ complexity is O(1)"
   ]
  },
  {
   "cell_type": "markdown",
   "metadata": {},
   "source": [
    "# References\n",
    "\n",
    "[Wikipedia](https://en.wikipedia.org/wiki/Big_O_notation)\n",
    "\n",
    "[Big O Notation](https://www.freecodecamp.org/news/big-o-notation-why-it-matters-and-why-it-doesnt-1674cfa8a23c/)\n",
    "\n",
    "[Introduction to the theory of computation](http://fuuu.be/polytech/INFOF408/Introduction-To-The-Theory-Of-Computation-Michael-Sipser.pdf)\n"
   ]
  }
 ],
 "metadata": {
  "interpreter": {
   "hash": "569d6b7e9215e11aba41c6454007e5c1b78bad7df09dab765d8cf00362c40f03"
  },
  "kernelspec": {
   "display_name": "Python 3",
   "language": "python",
   "name": "python3"
  },
  "language_info": {
   "codemirror_mode": {
    "name": "ipython",
    "version": 3
   },
   "file_extension": ".py",
   "mimetype": "text/x-python",
   "name": "python",
   "nbconvert_exporter": "python",
   "pygments_lexer": "ipython3",
   "version": "3.9.6"
  }
 },
 "nbformat": 4,
 "nbformat_minor": 2
}
